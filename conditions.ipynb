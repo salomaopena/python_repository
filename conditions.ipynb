{
 "cells": [
  {
   "cell_type": "markdown",
   "metadata": {},
   "source": [
    "##### TRABALHANDO COM CONDIÇÕES  IF, ELIF E ELSE"
   ]
  },
  {
   "cell_type": "code",
   "execution_count": 2,
   "metadata": {},
   "outputs": [
    {
     "name": "stdout",
     "output_type": "stream",
     "text": [
      "Betemos a meta de vendas, vendemos 51000 unidades...\n",
      "Fim do programa...\n"
     ]
    }
   ],
   "source": [
    "# Programa que imprime a meta das vendas, tendo em conta que a meta é de 50000\n",
    "\n",
    "meta = 50000\n",
    "qtd_vendas = 51000\n",
    "\n",
    "if qtd_vendas > meta:\n",
    "    print('Betemos a meta de vendas, vendemos {} unidades...'.format(qtd_vendas))\n",
    "print('Fim do programa...')"
   ]
  },
  {
   "cell_type": "code",
   "execution_count": 6,
   "metadata": {},
   "outputs": [
    {
     "name": "stdout",
     "output_type": "stream",
     "text": [
      "Não batemos a meta, vendemos apenas 3000 unidades, as meta era de 50000\n",
      "Fim do programa...\n"
     ]
    }
   ],
   "source": [
    "# Conituação do programa anterior\n",
    "meta = 50000\n",
    "qtd_vendas = 3000\n",
    "\n",
    "if qtd_vendas > meta:\n",
    "    print(f'Batemas a meta de vendas, vendemos {qtd_vendas} unidades.')\n",
    "else:\n",
    "    print(f'Não batemos a meta, vendemos apenas {qtd_vendas} unidades, as meta era de {meta}')\n",
    "print('Fim do programa...')"
   ]
  },
  {
   "cell_type": "code",
   "execution_count": 21,
   "metadata": {},
   "outputs": [
    {
     "name": "stdout",
     "output_type": "stream",
     "text": [
      "A taixa foi de 0.04\n"
     ]
    }
   ],
   "source": [
    "# Outras variações do IF com a variação do fundo de investimentos\n",
    "\n",
    "meta = 0.05\n",
    "taxa = 0\n",
    "rendimento = 0.10\n",
    "\n",
    "if rendimento > meta:\n",
    "    if rendimento > 0.20:\n",
    "        taxa = 0.04\n",
    "        print('A taixa foi de {}'.format(taxa))\n",
    "    else:\n",
    "        taxa = 0.02\n",
    "        print('A taixa foi de {}'.format(taxa))\n",
    "else:\n",
    "    taxa = 0\n",
    "    print('A taxa foi de ',taxa)\n"
   ]
  },
  {
   "cell_type": "code",
   "execution_count": 4,
   "metadata": {},
   "outputs": [
    {
     "name": "stdout",
     "output_type": "stream",
     "text": [
      "Ganhou 840.0 de bunus de suas vendas.\n"
     ]
    }
   ],
   "source": [
    "# Condição com If, Elif e Else\n",
    "# Progama que avalia uma pessoa em função de suas vendas\n",
    "meta = 25000\n",
    "vendas = 28000\n",
    "\n",
    "if vendas < meta:\n",
    "    print('Não ganhou bonus!')\n",
    "elif vendas > (meta * 2):\n",
    "    bonus = 0.07 * vendas\n",
    "    print('Ganhou {} de bonus de suas vendas.'.format(bonus))\n",
    "else:\n",
    "    bonus = 0.03 * vendas\n",
    "    print('Ganhou {} de bunus de suas vendas.'.format(bonus))"
   ]
  },
  {
   "cell_type": "markdown",
   "metadata": {},
   "source": [
    "#### Prinpais operadores relacionais do Python\n",
    "==      |    Igual <br>\n",
    "!=      |    Diferente <br>\n",
    ">       |     Maior que <br>\n",
    "<       |     Menor que<br>\n",
    "in      |    Texto existente no outros<br>\n",
    "not     |   verifica o contrário da comparação<br>\n",
    "or      |    dijunção<br>\n",
    "pass    |  se em algum momento não quiser escrever nada.<br>"
   ]
  },
  {
   "cell_type": "code",
   "execution_count": 7,
   "metadata": {},
   "outputs": [
    {
     "name": "stdout",
     "output_type": "stream",
     "text": [
      "Programa 1\n",
      "Os faturamentos são diferentes\n"
     ]
    }
   ],
   "source": [
    "#Aplicção prática\n",
    "\n",
    "faturamento_loja_1 = 3000\n",
    "faturamento_loja_2 = 2800\n",
    "email = 'spenagmail.com'\n",
    "\n",
    "print('Programa 1')\n",
    "if faturamento_loja_1 == faturamento_loja_2:\n",
    "    print('Os faturmanentos são iguais')\n",
    "else:\n",
    "    print('Os faturamentos são diferentes')"
   ]
  },
  {
   "cell_type": "code",
   "execution_count": 8,
   "metadata": {},
   "outputs": [
    {
     "name": "stdout",
     "output_type": "stream",
     "text": [
      "Programa 2\n",
      "Email incorreto\n"
     ]
    }
   ],
   "source": [
    "print('Programa 2')\n",
    "if email == 'spena@gmail.com':\n",
    "    print('Email correto')\n",
    "else:\n",
    "    print('Email incorreto')\n"
   ]
  },
  {
   "cell_type": "code",
   "execution_count": 10,
   "metadata": {},
   "outputs": [
    {
     "name": "stdout",
     "output_type": "stream",
     "text": [
      "Programa 3\n",
      "Email inválido\n"
     ]
    }
   ],
   "source": [
    "print('Programa 3')\n",
    "email_usuario = input('Informe o seu email: ')\n",
    "if '@' not in email_usuario:\n",
    "    print('Email inválido')\n",
    "else:\n",
    "    pass"
   ]
  },
  {
   "cell_type": "code",
   "execution_count": 26,
   "metadata": {},
   "outputs": [
    {
     "name": "stdout",
     "output_type": "stream",
     "text": [
      "Bonus do funcionário foi de  570.0\n"
     ]
    }
   ],
   "source": [
    "# Operadores AND e OR parte 1\n",
    "\n",
    "meta_funcionario = 10000\n",
    "meta_loja = 250000\n",
    "vendas_funcionarios = 19000\n",
    "vendas_loja = 251000\n",
    "\n",
    "if vendas_funcionarios > meta_funcionario and vendas_loja > meta_loja:\n",
    "    bonus = vendas_funcionarios * 0.03\n",
    "    print('Bonus do funcionário foi de ',bonus)\n",
    "else:\n",
    "    print('O funcionário não ganhou bonus')"
   ]
  },
  {
   "cell_type": "code",
   "execution_count": 25,
   "metadata": {},
   "outputs": [
    {
     "name": "stdout",
     "output_type": "stream",
     "text": [
      "O funcionário ganhou 570.0 de bonus\n"
     ]
    }
   ],
   "source": [
    "# Operadores AND e OR parte 2\n",
    "\n",
    "nota_funcionario = 8\n",
    "met_nota = 9\n",
    "\n",
    "if (nota_funcionario >= met_nota) or (vendas_funcionarios > meta_funcionario and vendas_loja > meta_loja):\n",
    "    bonus = vendas_funcionarios * 0.03\n",
    "    print('O funcionário ganhou {} de bonus'.format(bonus))\n",
    "else:\n",
    "    print('O funcionário não ganhou bonus')"
   ]
  },
  {
   "cell_type": "code",
   "execution_count": 33,
   "metadata": {},
   "outputs": [
    {
     "name": "stdout",
     "output_type": "stream",
     "text": [
      "O funcionário 1 ganhou 100.0 de bonus\n",
      "O funcionário 2 ganhou 0 de bonus\n",
      "O funcionário 3 ganhou 100.0 de bonus\n"
     ]
    }
   ],
   "source": [
    "# Calculo de Bonus parte 1\n",
    "# Crie um programa que calcule e imprime o bonus de cada um dos funcionários:\n",
    "# a meta é 1000 vendas\n",
    "\n",
    "meta_vendas = 1000\n",
    "vendas_func_1 = 1000\n",
    "vendas_func_2 = 790\n",
    "vendas_func_3 = 2700\n",
    "\n",
    "if vendas_func_1 >= meta_vendas:\n",
    "    bonus = vendas_func_1 * 0.1\n",
    "else:\n",
    "    bonus = 0\n",
    "print('O funcionário 1 ganhou {} de bonus'.format(bonus))\n",
    "\n",
    "if vendas_func_2 >= meta_vendas:\n",
    "    bonus = vendas_func_1 * 0.1\n",
    "else:\n",
    "    bonus = 0\n",
    "print('O funcionário 2 ganhou {} de bonus'.format(bonus))\n",
    "\n",
    "if vendas_func_3 >= meta_vendas:\n",
    "    bonus = vendas_func_1 * 0.1\n",
    "else:\n",
    "    bonus = 0\n",
    "print('O funcionário 3 ganhou {} de bonus'.format(bonus))\n"
   ]
  },
  {
   "cell_type": "code",
   "execution_count": 39,
   "metadata": {},
   "outputs": [
    {
     "name": "stdout",
     "output_type": "stream",
     "text": [
      "O funcionário 1 ganhou 100.0 de bonus.\n",
      "O funcionário 1 ganhou 0 de bonus.\n",
      "O funcionário 1 ganhou 405.0 de bonus.\n"
     ]
    }
   ],
   "source": [
    "# Calculo de Bonus parte 2\n",
    "\n",
    "if vendas_func_1 >= meta_vendas:\n",
    "    if vendas_func_1 >= 2000:\n",
    "        bonus = 0.15 * vendas_func_1\n",
    "    else:\n",
    "        bonus = 0.1 * vendas_func_1\n",
    "else:\n",
    "    bonus = 0\n",
    "print(f'O funcionário 1 ganhou {bonus} de bonus.')\n",
    "\n",
    "# outra forma de fazer....\n",
    "if vendas_func_2 >= meta_vendas:\n",
    "    bonus = 0.1 * vendas_func_2\n",
    "elif vendas_func_2 >= 2000:\n",
    "    bonus = 0.15 * vendas_func_2\n",
    "else:\n",
    "    bonus = 0\n",
    "print(f'O funcionário 1 ganhou {bonus} de bonus.')\n",
    "##################################################\n",
    "\n",
    "if vendas_func_3 >= meta_vendas:\n",
    "    if vendas_func_3 >= 2000:\n",
    "        bonus = 0.15 * vendas_func_3\n",
    "    else:\n",
    "        bonus = 0.1 * vendas_func_3\n",
    "else:\n",
    "    bonus = 0\n",
    "print(f'O funcionário 1 ganhou {bonus} de bonus.')"
   ]
  },
  {
   "cell_type": "code",
   "execution_count": 47,
   "metadata": {},
   "outputs": [
    {
     "name": "stdout",
     "output_type": "stream",
     "text": [
      "Introduzas as informações corretamente...\n"
     ]
    }
   ],
   "source": [
    "# Comparações não intuitivas\n",
    "faturamento = input('Informe o faturamento da loja nesse mês: ')\n",
    "custo = input('Informe o custo da loja nesse mês: ')\n",
    "\n",
    "if faturamento or custo:\n",
    "    print('Introduzas as informações corretamente...')\n",
    "else:\n",
    "    lucro = int(faturamento) - int(custo)\n",
    "    print('O lucro da loja foi de R$ {}'.format(lucro))"
   ]
  },
  {
   "cell_type": "code",
   "execution_count": 55,
   "metadata": {},
   "outputs": [
    {
     "name": "stdout",
     "output_type": "stream",
     "text": [
      "Solicitar  Coca  à equipe de vendas, temos apenas  5  unidades em estoque\n"
     ]
    }
   ],
   "source": [
    "# Criar um sistema de controlo de estoque\n",
    "\n",
    "produto = input('Informe o nome do produto')\n",
    "categoria = input('Informe a categoria (alimentos, bebidas ou limpeza): ')\n",
    "qtd = int(input('Informe a quantidade atual do produto: '))\n",
    "\n",
    "estoque_min_alimentos = 50\n",
    "estoque_min_bebidas = 75\n",
    "estoque_min_limpeza = 30\n",
    "\n",
    "if produto and  categoria and qtd:\n",
    "    if categoria == 'bebidas':\n",
    "        if qtd < estoque_min_bebidas:\n",
    "            print(f'Solicitar {produto} à equipe de vendas, temos apenas {qtd} unidades em estoque.')\n",
    "    elif categoria == 'alimentos':\n",
    "        if qtd < estoque_min_alimentos:\n",
    "            print('Solicitar {} à equipe de vendas, temos apenas {} unidades em estoque'.format(produto,qtd))\n",
    "    elif categoria == 'limpeza':\n",
    "        if qtd < estoque_min_limpeza:\n",
    "            print('Solicitar ', produto, ' à equipe de vendas, temos apenas ', qtd, ' unidades em estoque')\n",
    "    else:\n",
    "        print('Categoria inexistente..')\n",
    "\n",
    "\n"
   ]
  }
 ],
 "metadata": {
  "kernelspec": {
   "display_name": ".venv",
   "language": "python",
   "name": "python3"
  },
  "language_info": {
   "codemirror_mode": {
    "name": "ipython",
    "version": 3
   },
   "file_extension": ".py",
   "mimetype": "text/x-python",
   "name": "python",
   "nbconvert_exporter": "python",
   "pygments_lexer": "ipython3",
   "version": "3.12.4"
  }
 },
 "nbformat": 4,
 "nbformat_minor": 2
}
