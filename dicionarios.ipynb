{
 "cells": [
  {
   "cell_type": "markdown",
   "metadata": {},
   "source": [
    "#### Trabalhando com dicionários"
   ]
  },
  {
   "cell_type": "code",
   "execution_count": 12,
   "metadata": {},
   "outputs": [
    {
     "name": "stdout",
     "output_type": "stream",
     "text": [
      "{'janeiro': 10200, 'fevereiro': 30940, 'março': 230000}\n",
      "{'janeiro': 10200, 'fevereiro': 30940, 'março': 230000, 'abril': 380000}\n"
     ]
    }
   ],
   "source": [
    "lucro_trim_um = {'janeiro':10200, 'fevereiro':30940, 'março':230000}\n",
    "lucro_trim_dois = {'abril':903900, 'maio':68000, 'junho':769000}\n",
    "\n",
    "print(lucro_trim_um)\n",
    "#adicionar um dado no dicionário\n",
    "lucro_trim_um['abril'] = 380000\n",
    "#imprimir o valor após ser adicionado\n",
    "print(lucro_trim_um)"
   ]
  },
  {
   "cell_type": "code",
   "execution_count": 17,
   "metadata": {},
   "outputs": [
    {
     "name": "stdout",
     "output_type": "stream",
     "text": [
      "{'janeiro': 98000, 'fevereiro': 30940, 'março': 230000, 'junho': 769000, 'abril': 903900, 'maio': 68000}\n"
     ]
    }
   ],
   "source": [
    "# adicionar vários dados no dicionário\n",
    "lucro_trim_um.update(lucro_trim_dois)\n",
    "# imprimir o resultado após adicionar vários itens no dicionário\n",
    "print(lucro_trim_um)"
   ]
  },
  {
   "cell_type": "code",
   "execution_count": 14,
   "metadata": {},
   "outputs": [
    {
     "name": "stdout",
     "output_type": "stream",
     "text": [
      "{'janeiro': 98000, 'fevereiro': 30940, 'março': 230000, 'abril': 903900, 'maio': 68000, 'junho': 769000}\n"
     ]
    }
   ],
   "source": [
    "# Tentando adicionar um valor já existente\n",
    "# nota: nos dicionários os quando uma chave já existe ele não adiciona, apenas modifica.\n",
    "# Repare que o lucro de janeiro inicialmente é 10200 e após ser modificado terá um valor diferente.\n",
    "lucro_trim_um['janeiro'] = 98000\n",
    "print(lucro_trim_um)"
   ]
  },
  {
   "cell_type": "code",
   "execution_count": 15,
   "metadata": {},
   "outputs": [
    {
     "name": "stdout",
     "output_type": "stream",
     "text": [
      "{'janeiro': 98000, 'fevereiro': 30940, 'março': 230000, 'abril': 903900, 'junho': 769000}\n",
      "{'janeiro': 98000, 'fevereiro': 30940, 'março': 230000, 'junho': 769000}\n",
      "903900\n"
     ]
    }
   ],
   "source": [
    "# Remover um item no dicionário\n",
    "# Semelhantemente as listas utilizamos vários formas; ex: del, pop, clear\n",
    "\n",
    "del lucro_trim_um['maio']\n",
    "print(lucro_trim_um)\n",
    "\n",
    "lucro_abril = lucro_trim_um.pop('abril')\n",
    "print(lucro_trim_um)\n",
    "print(lucro_abril)"
   ]
  },
  {
   "cell_type": "code",
   "execution_count": 23,
   "metadata": {},
   "outputs": [
    {
     "name": "stdout",
     "output_type": "stream",
     "text": [
      "O lucro de janeiro foi de 98000\n",
      "O lucro de fevereiro foi de 30940\n",
      "O lucro de março foi de 230000\n",
      "O lucro de junho foi de 769000\n",
      "O lucro de abril foi de 903900\n",
      "O lucro de maio foi de 68000\n"
     ]
    }
   ],
   "source": [
    "# Percorrer os dados do dicionário com um FOR\n",
    "\n",
    "for chave in lucro_trim_um:\n",
    "    print('O lucro de {} foi de {}'.format(chave, lucro_trim_um[chave]))"
   ]
  },
  {
   "cell_type": "code",
   "execution_count": 147,
   "metadata": {},
   "outputs": [
    {
     "name": "stdout",
     "output_type": "stream",
     "text": [
      "101\n",
      "Laptop\n",
      "Dell\n",
      "Computadores\n",
      "10\n",
      "3000\n",
      "30000\n",
      "2024-10-15\n",
      "{'id_cliente': 1, 'nome': 'Empresa ABC', 'tipo_cliente': 'Corporativo'}\n",
      "102\n",
      "Smartphone\n",
      "Samsung\n",
      "Dispositivos Móveis\n",
      "20\n",
      "1500\n",
      "30000\n",
      "2024-10-16\n",
      "{'id_cliente': 2, 'nome': 'Cliente João Silva', 'tipo_cliente': 'Pessoa Física'}\n",
      "103\n",
      "Servidor\n",
      "HP\n",
      "Infraestrutura\n",
      "5\n",
      "20000\n",
      "100000\n",
      "2024-10-17\n",
      "{'id_cliente': 3, 'nome': 'Empresa XYZ', 'tipo_cliente': 'Corporativo'}\n"
     ]
    }
   ],
   "source": [
    "# Dicionário de vendas de tecnologias\n",
    "vendas_tecnologia = {\n",
    "    \"vendas\": [\n",
    "        {\n",
    "            \"id_venda\": 101,\n",
    "            \"produto\": \"Laptop\",\n",
    "            \"marca\": \"Dell\",\n",
    "            \"categoria\": \"Computadores\",\n",
    "            \"quantidade\": 10,\n",
    "            \"preco_unitario\": 3000,\n",
    "            \"total_venda\": 30000,\n",
    "            \"data_venda\": \"2024-10-15\",\n",
    "            \"cliente\": {\n",
    "                \"id_cliente\": 1,\n",
    "                \"nome\": \"Empresa ABC\",\n",
    "                \"tipo_cliente\": \"Corporativo\"\n",
    "            }\n",
    "        },\n",
    "        {\n",
    "            \"id_venda\": 102,\n",
    "            \"produto\": \"Smartphone\",\n",
    "            \"marca\": \"Samsung\",\n",
    "            \"categoria\": \"Dispositivos Móveis\",\n",
    "            \"quantidade\": 20,\n",
    "            \"preco_unitario\": 1500,\n",
    "            \"total_venda\": 30000,\n",
    "            \"data_venda\": \"2024-10-16\",\n",
    "            \"cliente\": {\n",
    "                \"id_cliente\": 2,\n",
    "                \"nome\": \"Cliente João Silva\",\n",
    "                \"tipo_cliente\": \"Pessoa Física\"\n",
    "            }\n",
    "        },\n",
    "        {\n",
    "            \"id_venda\": 103,\n",
    "            \"produto\": \"Servidor\",\n",
    "            \"marca\": \"HP\",\n",
    "            \"categoria\": \"Infraestrutura\",\n",
    "            \"quantidade\": 5,\n",
    "            \"preco_unitario\": 20000,\n",
    "            \"total_venda\": 100000,\n",
    "            \"data_venda\": \"2024-10-17\",\n",
    "            \"cliente\": {\n",
    "                \"id_cliente\": 3,\n",
    "                \"nome\": \"Empresa XYZ\",\n",
    "                \"tipo_cliente\": \"Corporativo\"\n",
    "            }\n",
    "        }\n",
    "    ]\n",
    "}\n",
    "\n",
    "\n",
    "# Tratar os dados do disionário\n",
    "\n",
    "for venda in vendas_tecnologia:\n",
    "    for value in vendas_tecnologia[venda]:\n",
    "        for dado in value:\n",
    "            print(value[dado])\n",
    "       "
   ]
  },
  {
   "cell_type": "code",
   "execution_count": 110,
   "metadata": {},
   "outputs": [
    {
     "name": "stdout",
     "output_type": "stream",
     "text": [
      "ID da Venda: 101\n",
      "Produto: Laptop\n",
      "Quantidade: 10\n",
      "Preço Unitário: 3000\n",
      "Total da Venda: 30000\n",
      "Cliente: Empresa ABC\n",
      "Data da Venda: 2024-10-15\n",
      "\n",
      "--------------------------------------------------\n",
      "ID da Venda: 102\n",
      "Produto: Smartphone\n",
      "Quantidade: 20\n",
      "Preço Unitário: 1500\n",
      "Total da Venda: 30000\n",
      "Cliente: Cliente João Silva\n",
      "Data da Venda: 2024-10-16\n",
      "\n",
      "--------------------------------------------------\n",
      "ID da Venda: 103\n",
      "Produto: Servidor\n",
      "Quantidade: 5\n",
      "Preço Unitário: 20000\n",
      "Total da Venda: 100000\n",
      "Cliente: Empresa XYZ\n",
      "Data da Venda: 2024-10-17\n",
      "\n",
      "--------------------------------------------------\n"
     ]
    }
   ],
   "source": [
    "for venda in vendas_tecnologia['vendas']:\n",
    "    print(f\"ID da Venda: {venda['id_venda']}\")\n",
    "    print(f\"Produto: {venda['produto']}\")\n",
    "    print(f\"Quantidade: {venda['quantidade']}\")\n",
    "    print(f\"Preço Unitário: {venda['preco_unitario']}\")\n",
    "    print(f\"Total da Venda: {venda['total_venda']}\")\n",
    "    print(f\"Cliente: {venda['cliente']['nome']}\")\n",
    "    print(f\"Data da Venda: {venda['data_venda']}\\n\")\n",
    "    print('-' * 50)"
   ]
  },
  {
   "cell_type": "code",
   "execution_count": 153,
   "metadata": {},
   "outputs": [],
   "source": [
    "# Transformando lista em dicionários\n",
    "produtos = [\n",
    "    \"Laptop Dell\", \"Smartphone Samsung\", \"Servidor HP\", \"Tablet Apple\", \"Smartwatch Garmin\",\n",
    "    \"Headset Logitech\", \"Teclado Mecânico Razer\", \"Monitor LG\", \"Impressora Epson\", \"Drone DJI\",\n",
    "    \"Câmera Sony\", \"Caixa de Som JBL\", \"Smart TV Samsung\", \"Console Xbox\", \"Notebook Lenovo\",\n",
    "    \"Mouse Gamer Corsair\", \"Placa de Vídeo Nvidia\", \"HD Externo Seagate\", \"Router TP-Link\", \"Projetor Epson\"\n",
    "]\n",
    "precos = [\n",
    "    3000, 1500, 20000, 4000, 2500,\n",
    "    600, 800, 1200, 700, 5000,\n",
    "    4500, 350, 3000, 2500, 3500,\n",
    "    400, 5000, 600, 250, 4000\n",
    "]\n",
    "\n",
    "lista_tuplas =zip(produtos, precos)\n",
    "dicionario = dict(lista_tuplas)"
   ]
  },
  {
   "cell_type": "code",
   "execution_count": 161,
   "metadata": {},
   "outputs": [
    {
     "name": "stdout",
     "output_type": "stream",
     "text": [
      "Laptop Dell custa 3000.00 R$\n",
      "Smartphone Samsung custa 1500.00 R$\n",
      "Servidor HP custa 20000.00 R$\n",
      "Tablet Apple custa 4000.00 R$\n",
      "Smartwatch Garmin custa 2500.00 R$\n",
      "Headset Logitech custa 600.00 R$\n",
      "Teclado Mecânico Razer custa 800.00 R$\n",
      "Monitor LG custa 1200.00 R$\n",
      "Impressora Epson custa 700.00 R$\n",
      "Drone DJI custa 5000.00 R$\n",
      "Câmera Sony custa 4500.00 R$\n",
      "Caixa de Som JBL custa 350.00 R$\n",
      "Smart TV Samsung custa 3000.00 R$\n",
      "Console Xbox custa 2500.00 R$\n",
      "Notebook Lenovo custa 3500.00 R$\n",
      "Mouse Gamer Corsair custa 400.00 R$\n",
      "Placa de Vídeo Nvidia custa 5000.00 R$\n",
      "HD Externo Seagate custa 600.00 R$\n",
      "Router TP-Link custa 250.00 R$\n",
      "Projetor Epson custa 4000.00 R$\n"
     ]
    }
   ],
   "source": [
    "for produto in dicionario:\n",
    "    print('{} custa {:.2f} R$'.format(produto, dicionario[produto]))"
   ]
  }
 ],
 "metadata": {
  "kernelspec": {
   "display_name": ".venv",
   "language": "python",
   "name": "python3"
  },
  "language_info": {
   "codemirror_mode": {
    "name": "ipython",
    "version": 3
   },
   "file_extension": ".py",
   "mimetype": "text/x-python",
   "name": "python",
   "nbconvert_exporter": "python",
   "pygments_lexer": "ipython3",
   "version": "3.12.4"
  }
 },
 "nbformat": 4,
 "nbformat_minor": 2
}
