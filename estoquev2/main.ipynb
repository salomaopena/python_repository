{
 "cells": [
  {
   "cell_type": "code",
   "execution_count": 8,
   "metadata": {},
   "outputs": [
    {
     "name": "stdout",
     "output_type": "stream",
     "text": [
      "Olá, esse é meu primeiro programa em Python\n"
     ]
    }
   ],
   "source": [
    "#Testando o Jupyter\n",
    "\n",
    "print('Olá, esse é meu primeiro programa em Python')"
   ]
  },
  {
   "cell_type": "code",
   "execution_count": 23,
   "metadata": {},
   "outputs": [
    {
     "name": "stdout",
     "output_type": "stream",
     "text": [
      "2000\n"
     ]
    }
   ],
   "source": [
    "qtdade_vendas = 2000\n",
    "\n",
    "print(qtdade_vendas)\n"
   ]
  },
  {
   "cell_type": "code",
   "execution_count": 28,
   "metadata": {},
   "outputs": [
    {
     "name": "stdout",
     "output_type": "stream",
     "text": [
      "400\n"
     ]
    }
   ],
   "source": [
    "#Vairáveis \n",
    "\n",
    "faturamento = 500\n",
    "custo = 100\n",
    "lucro = faturamento - custo\n",
    "\n",
    "print(lucro)\n"
   ]
  },
  {
   "cell_type": "code",
   "execution_count": 3,
   "metadata": {},
   "outputs": [
    {
     "name": "stdout",
     "output_type": "stream",
     "text": [
      "Salomão Pena\n"
     ]
    }
   ],
   "source": [
    "nome = input('Qual é o seu primeiro nome? ')\n",
    "sobrenome = input('Qual é o seu últinom nome? ')\n",
    "\n",
    "print(nome, sobrenome, sep=' ')"
   ]
  },
  {
   "cell_type": "code",
   "execution_count": 5,
   "metadata": {},
   "outputs": [
    {
     "name": "stdout",
     "output_type": "stream",
     "text": [
      "4830.0\n"
     ]
    }
   ],
   "source": [
    "# Cálculo Sobre Faturamento da Empresa\n",
    "\n",
    "faturamento = float(input('Insira o faturamento da empresa? '))\n",
    "custo = float(input('Qual é o custo da empresa? '))\n",
    "\n",
    "lucro = faturamento - custo\n",
    "\n",
    "print(lucro)"
   ]
  },
  {
   "cell_type": "markdown",
   "metadata": {},
   "source": [
    "## Principais indicadores da loja"
   ]
  },
  {
   "cell_type": "code",
   "execution_count": 8,
   "metadata": {},
   "outputs": [
    {
     "name": "stdout",
     "output_type": "stream",
     "text": [
      "Faturamento de Coca: 2250.0\n",
      "faturamento de Pepsi: 1950.0\n",
      "Faturamento total: 4200.00\n",
      "Lucro da empresa: 1700.00\n"
     ]
    }
   ],
   "source": [
    "qtd_coca = 1500\n",
    "qtd_pepsi = 1300\n",
    "preco_coca = 1.50\n",
    "preco_pepsi = 1.5\n",
    "custo = 2500\n",
    "\n",
    "print(f'Faturamento de Coca: {qtd_coca * preco_coca}')\n",
    "print(f'faturamento de Pepsi: {qtd_pepsi * preco_pepsi}')\n",
    "\n",
    "faturamento_total = ((qtd_coca * preco_coca) + qtd_pepsi * preco_pepsi)\n",
    "lucro = faturamento_total - custo\n",
    "\n",
    "print(f'Faturamento total: {faturamento_total:.2f}')\n",
    "print(f'Lucro da empresa: {lucro:.2f}')"
   ]
  },
  {
   "cell_type": "markdown",
   "metadata": {},
   "source": [
    "## Input Strings"
   ]
  },
  {
   "cell_type": "code",
   "execution_count": 1,
   "metadata": {},
   "outputs": [
    {
     "name": "stdout",
     "output_type": "stream",
     "text": [
      "True\n"
     ]
    }
   ],
   "source": [
    "codigo = input('Informe o código do produto: ')\n",
    "\n",
    "print('BAC' in codigo)\n",
    "\n",
    "#if 'BEB' in codigo:\n",
    "#    print('Refrigerante')\n",
    "#elif 'BAC' in codigo:\n",
    "#    print('Vinho')\n",
    "#else:\n",
    "#    print('Produto inválido')"
   ]
  },
  {
   "cell_type": "markdown",
   "metadata": {},
   "source": [
    "### Tipos de variáveis"
   ]
  },
  {
   "cell_type": "code",
   "execution_count": 2,
   "metadata": {},
   "outputs": [
    {
     "data": {
      "text/plain": [
       "int"
      ]
     },
     "execution_count": 2,
     "metadata": {},
     "output_type": "execute_result"
    }
   ],
   "source": [
    "faturamento = 1000\n",
    "type(faturamento)"
   ]
  },
  {
   "cell_type": "code",
   "execution_count": 3,
   "metadata": {},
   "outputs": [
    {
     "data": {
      "text/plain": [
       "float"
      ]
     },
     "execution_count": 3,
     "metadata": {},
     "output_type": "execute_result"
    }
   ],
   "source": [
    "faturamento = 1000.00\n",
    "type(faturamento)"
   ]
  },
  {
   "cell_type": "code",
   "execution_count": 4,
   "metadata": {},
   "outputs": [
    {
     "data": {
      "text/plain": [
       "str"
      ]
     },
     "execution_count": 4,
     "metadata": {},
     "output_type": "execute_result"
    }
   ],
   "source": [
    "faturamento = '1000.0'\n",
    "type(faturamento)"
   ]
  },
  {
   "cell_type": "code",
   "execution_count": 5,
   "metadata": {},
   "outputs": [
    {
     "data": {
      "text/plain": [
       "bool"
      ]
     },
     "execution_count": 5,
     "metadata": {},
     "output_type": "execute_result"
    }
   ],
   "source": [
    "faturamento = True\n",
    "type(faturamento)"
   ]
  }
 ],
 "metadata": {
  "kernelspec": {
   "display_name": ".venv",
   "language": "python",
   "name": "python3"
  },
  "language_info": {
   "codemirror_mode": {
    "name": "ipython",
    "version": 3
   },
   "file_extension": ".py",
   "mimetype": "text/x-python",
   "name": "python",
   "nbconvert_exporter": "python",
   "pygments_lexer": "ipython3",
   "version": "3.12.4"
  }
 },
 "nbformat": 4,
 "nbformat_minor": 2
}
