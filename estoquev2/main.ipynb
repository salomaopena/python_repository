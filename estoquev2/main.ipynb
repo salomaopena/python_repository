{
 "cells": [
  {
   "cell_type": "code",
   "execution_count": 8,
   "metadata": {},
   "outputs": [
    {
     "name": "stdout",
     "output_type": "stream",
     "text": [
      "Olá, esse é meu primeiro programa em Python\n"
     ]
    }
   ],
   "source": [
    "#Testando o Jupyter\n",
    "\n",
    "print('Olá, esse é meu primeiro programa em Python')"
   ]
  },
  {
   "cell_type": "code",
   "execution_count": 23,
   "metadata": {},
   "outputs": [
    {
     "name": "stdout",
     "output_type": "stream",
     "text": [
      "2000\n"
     ]
    }
   ],
   "source": [
    "qtdade_vendas = 2000\n",
    "\n",
    "print(qtdade_vendas)\n"
   ]
  },
  {
   "cell_type": "code",
   "execution_count": 28,
   "metadata": {},
   "outputs": [
    {
     "name": "stdout",
     "output_type": "stream",
     "text": [
      "400\n"
     ]
    }
   ],
   "source": [
    "#Vairáveis \n",
    "\n",
    "faturamento = 500\n",
    "custo = 100\n",
    "lucro = faturamento - custo\n",
    "\n",
    "print(lucro)\n"
   ]
  },
  {
   "cell_type": "code",
   "execution_count": 3,
   "metadata": {},
   "outputs": [
    {
     "name": "stdout",
     "output_type": "stream",
     "text": [
      "Salomão Pena\n"
     ]
    }
   ],
   "source": [
    "nome = input('Qual é o seu primeiro nome? ')\n",
    "sobrenome = input('Qual é o seu últinom nome? ')\n",
    "\n",
    "print(nome, sobrenome, sep=' ')"
   ]
  },
  {
   "cell_type": "code",
   "execution_count": 5,
   "metadata": {},
   "outputs": [
    {
     "name": "stdout",
     "output_type": "stream",
     "text": [
      "4830.0\n"
     ]
    }
   ],
   "source": [
    "# Cálculo Sobre Faturamento da Empresa\n",
    "\n",
    "faturamento = float(input('Insira o faturamento da empresa? '))\n",
    "custo = float(input('Qual é o custo da empresa? '))\n",
    "\n",
    "lucro = faturamento - custo\n",
    "\n",
    "print(lucro)"
   ]
  },
  {
   "cell_type": "markdown",
   "metadata": {},
   "source": [
    "## Principais indicadores da loja"
   ]
  },
  {
   "cell_type": "code",
   "execution_count": 8,
   "metadata": {},
   "outputs": [
    {
     "name": "stdout",
     "output_type": "stream",
     "text": [
      "Faturamento de Coca: 2250.0\n",
      "faturamento de Pepsi: 1950.0\n",
      "Faturamento total: 4200.00\n",
      "Lucro da empresa: 1700.00\n"
     ]
    }
   ],
   "source": [
    "qtd_coca = 1500\n",
    "qtd_pepsi = 1300\n",
    "preco_coca = 1.50\n",
    "preco_pepsi = 1.5\n",
    "custo = 2500\n",
    "\n",
    "print(f'Faturamento de Coca: {qtd_coca * preco_coca}')\n",
    "print(f'faturamento de Pepsi: {qtd_pepsi * preco_pepsi}')\n",
    "\n",
    "faturamento_total = ((qtd_coca * preco_coca) + qtd_pepsi * preco_pepsi)\n",
    "lucro = faturamento_total - custo\n",
    "\n",
    "print(f'Faturamento total: {faturamento_total:.2f}')\n",
    "print(f'Lucro da empresa: {lucro:.2f}')"
   ]
  },
  {
   "cell_type": "markdown",
   "metadata": {},
   "source": [
    "## Input Strings"
   ]
  },
  {
   "cell_type": "code",
   "execution_count": 1,
   "metadata": {},
   "outputs": [
    {
     "name": "stdout",
     "output_type": "stream",
     "text": [
      "True\n"
     ]
    }
   ],
   "source": [
    "codigo = input('Informe o código do produto: ')\n",
    "\n",
    "print('BAC' in codigo)\n",
    "\n",
    "#if 'BEB' in codigo:\n",
    "#    print('Refrigerante')\n",
    "#elif 'BAC' in codigo:\n",
    "#    print('Vinho')\n",
    "#else:\n",
    "#    print('Produto inválido')"
   ]
  },
  {
   "cell_type": "markdown",
   "metadata": {},
   "source": [
    "### Tipos de variáveis"
   ]
  },
  {
   "cell_type": "code",
   "execution_count": 2,
   "metadata": {},
   "outputs": [
    {
     "data": {
      "text/plain": [
       "int"
      ]
     },
     "execution_count": 2,
     "metadata": {},
     "output_type": "execute_result"
    }
   ],
   "source": [
    "faturamento = 1000\n",
    "type(faturamento)"
   ]
  },
  {
   "cell_type": "code",
   "execution_count": 3,
   "metadata": {},
   "outputs": [
    {
     "data": {
      "text/plain": [
       "float"
      ]
     },
     "execution_count": 3,
     "metadata": {},
     "output_type": "execute_result"
    }
   ],
   "source": [
    "faturamento = 1000.00\n",
    "type(faturamento)"
   ]
  },
  {
   "cell_type": "code",
   "execution_count": 4,
   "metadata": {},
   "outputs": [
    {
     "data": {
      "text/plain": [
       "str"
      ]
     },
     "execution_count": 4,
     "metadata": {},
     "output_type": "execute_result"
    }
   ],
   "source": [
    "faturamento = '1000.0'\n",
    "type(faturamento)"
   ]
  },
  {
   "cell_type": "code",
   "execution_count": 5,
   "metadata": {},
   "outputs": [
    {
     "data": {
      "text/plain": [
       "bool"
      ]
     },
     "execution_count": 5,
     "metadata": {},
     "output_type": "execute_result"
    }
   ],
   "source": [
    "faturamento = True\n",
    "type(faturamento)"
   ]
  },
  {
   "cell_type": "markdown",
   "metadata": {},
   "source": [
    "### Transformando número em string"
   ]
  },
  {
   "cell_type": "code",
   "execution_count": 9,
   "metadata": {},
   "outputs": [
    {
     "name": "stdout",
     "output_type": "stream",
     "text": [
      "O faturamento da loja foi 2000\n",
      "O cuato da loja foi de 500\n",
      "Assim o lucro da loja foi 1500\n"
     ]
    }
   ],
   "source": [
    "faturamento  = 2000\n",
    "custo = 500\n",
    "lucro = faturamento - custo\n",
    "\n",
    "print('O faturamento da loja foi ' + str(faturamento))\n",
    "print('O cuato da loja foi de ' + str(custo))\n",
    "print('Assim o lucro da loja foi ' + str(lucro))\n",
    "\n"
   ]
  },
  {
   "cell_type": "markdown",
   "metadata": {},
   "source": [
    "### Método format"
   ]
  },
  {
   "cell_type": "code",
   "execution_count": 12,
   "metadata": {},
   "outputs": [
    {
     "name": "stdout",
     "output_type": "stream",
     "text": [
      "O faturamento da loja foi 2000. O custo da loja foi 500, assim o lucro da loja foi 1500.\n",
      "O faturamento da loja foi 2000. O custo da loja foi 500, assim o lucro da loja foi 1500.\n"
     ]
    }
   ],
   "source": [
    "faturamento  = 2000\n",
    "custo = 500\n",
    "lucro = faturamento - custo\n",
    "\n",
    "print('O faturamento da loja foi {}. O custo da loja foi {}, assim o lucro da loja foi {}.'.format(faturamento, custo, lucro))\n",
    "print(f'O faturamento da loja foi {faturamento}. O custo da loja foi {custo}, assim o lucro da loja foi {lucro}.')"
   ]
  },
  {
   "cell_type": "markdown",
   "metadata": {},
   "source": [
    "### Outro exemplo com o f-string"
   ]
  },
  {
   "cell_type": "code",
   "execution_count": 14,
   "metadata": {},
   "outputs": [
    {
     "name": "stdout",
     "output_type": "stream",
     "text": [
      "O faturamento da loja foi 5000.0. O custo da loja foi 200.0, assim o lucro da loja foi 4800.0.\n"
     ]
    }
   ],
   "source": [
    "faturamento = float(input('Insira o valor do faturamento da empresa: '))\n",
    "custo = float(input('Insira o valor do custo da empresa: '))\n",
    "\n",
    "lucro = faturamento - custo\n",
    "\n",
    "print(f'O faturamento da loja foi {faturamento}. O custo da loja foi {custo}, assim o lucro da loja foi {lucro}.')\n"
   ]
  }
 ],
 "metadata": {
  "kernelspec": {
   "display_name": ".venv",
   "language": "python",
   "name": "python3"
  },
  "language_info": {
   "codemirror_mode": {
    "name": "ipython",
    "version": 3
   },
   "file_extension": ".py",
   "mimetype": "text/x-python",
   "name": "python",
   "nbconvert_exporter": "python",
   "pygments_lexer": "ipython3",
   "version": "3.12.4"
  }
 },
 "nbformat": 4,
 "nbformat_minor": 2
}
