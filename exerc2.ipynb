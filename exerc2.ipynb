{
 "cells": [
  {
   "cell_type": "markdown",
   "metadata": {},
   "source": [
    "#### Exercícios sobre estrutura de decisão"
   ]
  },
  {
   "cell_type": "code",
   "execution_count": 5,
   "metadata": {},
   "outputs": [
    {
     "name": "stdout",
     "output_type": "stream",
     "text": [
      "O número maior entre 3 e 1 é 3\n"
     ]
    }
   ],
   "source": [
    "# 1. Faça um programa que peça dois números e imprime o maior entre eles\n",
    "num_1 = input('Informe um número: ')\n",
    "num_2 = input('Informe outro número: ')\n",
    "\n",
    "\n",
    "if num_1 and num_2:\n",
    "\n",
    "    num_1 = int(num_1)\n",
    "    num_2 = int(num_2)\n",
    "\n",
    "    if num_1 > num_2:\n",
    "        print(f'O número maior entre {num_1} e {num_2} é {num_1}')\n",
    "    elif num_2 > num_1:\n",
    "        print(f'O número maior entre {num_1} e {num_2} é {num_2}')\n",
    "    else:\n",
    "        print('Os números são iguais.')\n",
    "    \n",
    "    \n",
    "else:\n",
    "    print('Informações inválidas.')"
   ]
  },
  {
   "cell_type": "code",
   "execution_count": 8,
   "metadata": {},
   "outputs": [
    {
     "name": "stdout",
     "output_type": "stream",
     "text": [
      "O número (-98) informado é negativo \n"
     ]
    }
   ],
   "source": [
    "# 2. programa que verifica se um número é positivo ou negativo\n",
    "num = int(input('Informe um número qualquer: '))\n",
    "\n",
    "if num > 0:\n",
    "    print('O número ({}) informado é positivo '.format(num))\n",
    "else:\n",
    "   print('O número ({}) informado é negativo '.format(num)) "
   ]
  },
  {
   "cell_type": "code",
   "execution_count": 21,
   "metadata": {},
   "outputs": [
    {
     "name": "stdout",
     "output_type": "stream",
     "text": [
      "O-Outros\n",
      "O-Outros\n",
      "O-Outros\n"
     ]
    }
   ],
   "source": [
    "# 3. Programa que verifica o estado civil de uma pessoal.\n",
    "#print('**Programa que verifica o estado civil de uma pessoa**')\n",
    "\n",
    "estado_civil = input('Informa o estado civil da pessoa: ')\n",
    "\n",
    "if estado_civil == 'C' or estado_civil == 'c':\n",
    "    print('C-Casado')\n",
    "elif estado_civil == 'S' or estado_civil == 's':\n",
    "    print('S-Solteiro')\n",
    "elif estado_civil == 'D' or estado_civil == 'd':\n",
    "    print('D-Divorciado')\n",
    "elif estado_civil == 'V' or estado_civil == 'v':\n",
    "    print('V-Viuvo')\n",
    "elif estado_civil == 'O' or estado_civil == 'o':\n",
    "    print('O-Outros')\n",
    "\n",
    "## Outra forma de o fazer\n",
    "if estado_civil.upper() == 'C':\n",
    "    print('C-Casado')\n",
    "elif estado_civil.upper() == 'S':\n",
    "    print('S-Solteiro')\n",
    "elif estado_civil.upper == 'D':\n",
    "    print('D-Divorciado')\n",
    "elif estado_civil.upper() == 'V':\n",
    "    print('V-Viuvo')\n",
    "elif estado_civil.upper() == 'O':\n",
    "    print('O-Outros')\n",
    "\n",
    "\n",
    "## Outra forma de o fazer\n",
    "if estado_civil.upper() == 'C':\n",
    "    estado_civil = 'C-Casado'\n",
    "elif estado_civil.upper() == 'S':\n",
    "    estado_civil = 'S-Solteiro'\n",
    "elif estado_civil.upper == 'D':\n",
    "    estado_civil = 'D-Divorciado'\n",
    "elif estado_civil.upper() == 'V':\n",
    "    estado_civil = 'V-Viuvo'\n",
    "elif estado_civil.upper() == 'O':\n",
    "    estado_civil = 'O-Outros'\n",
    "print(estado_civil)\n"
   ]
  },
  {
   "cell_type": "code",
   "execution_count": 6,
   "metadata": {},
   "outputs": [
    {
     "name": "stdout",
     "output_type": "stream",
     "text": [
      "O email fulano@gmail.com está na lista de Spam \n"
     ]
    }
   ],
   "source": [
    "# 4. Verifica se o email digitado é spam\n",
    "\n",
    "email_spam = 'fulano@gmail.com,beltrano@gmail.com,ciclano@gmail.com'\n",
    "email = input('Informe um email: ')\n",
    "\n",
    "if email in email_spam:\n",
    "    print('O email {} está na lista de Spam '.format(email))\n",
    "else:\n",
    "    print(f'O email {email} é válido.')\n"
   ]
  },
  {
   "cell_type": "code",
   "execution_count": 13,
   "metadata": {},
   "outputs": [
    {
     "name": "stdout",
     "output_type": "stream",
     "text": [
      "Aprovado.\n"
     ]
    }
   ],
   "source": [
    "# 5. programa que calcula a média do aluno e informa se está \"Aprovado com distinção\", \"Aprovado\" ou \"Reprovado\"\n",
    "\n",
    "nota_1 = float(input('Informe e 1ª nota: '))\n",
    "nota_2 = float(input('Informe a 2ª nota: '))\n",
    "\n",
    "media = (nota_1 + nota_2) / 2\n",
    "\n",
    "if media == 10:\n",
    "    print('Aprovado com distinção')\n",
    "elif media < 10 and media >= 7:\n",
    "    print('Aprovado.')\n",
    "else:\n",
    "    print('Reprovado.')"
   ]
  },
  {
   "cell_type": "code",
   "execution_count": 14,
   "metadata": {},
   "outputs": [
    {
     "name": "stdout",
     "output_type": "stream",
     "text": [
      "O maior orçamento é 109220.0\n"
     ]
    }
   ],
   "source": [
    "# 6. Um programa que lê 3 orcamentos de 3 empresas diferentes e mostra qual é o maior...\n",
    "\n",
    "orcamento_1 = float(input('Informe primeiro orçamento: '))\n",
    "orcamento_2 = float(input('Informe segundo orçamento: '))\n",
    "orcamento_3 = float(input('Informe terceiro orçamento: '))\n",
    "\n",
    "if orcamento_1 > orcamento_2 and orcamento_1 > orcamento_3:\n",
    "    print('O maior orçamento é {}'.format(orcamento_1))\n",
    "elif orcamento_2 > orcamento_1 and orcamento_2 > orcamento_3:\n",
    "    print('O maior orçamento é {}'.format(orcamento_2))\n",
    "elif orcamento_3 > orcamento_1 and orcamento_3 > orcamento_2:\n",
    "    print('O maior orçamento é {}'.format(orcamento_3))"
   ]
  },
  {
   "cell_type": "code",
   "execution_count": 15,
   "metadata": {},
   "outputs": [
    {
     "name": "stdout",
     "output_type": "stream",
     "text": [
      "O maior orçamento é 15.0\n",
      "O menor orçamento é 9.0\n"
     ]
    }
   ],
   "source": [
    "# 7. Um programa que lê três orçamentos e apresenta o menor e o maior\n",
    "\n",
    "orcamento_1 = float(input('Informe primeiro orçamento: '))\n",
    "orcamento_2 = float(input('Informe segundo orçamento: '))\n",
    "orcamento_3 = float(input('Informe terceiro orçamento: '))\n",
    "\n",
    "if orcamento_1 > orcamento_2 and orcamento_1 > orcamento_3:\n",
    "    print('O maior orçamento é {}'.format(orcamento_1))\n",
    "elif orcamento_2 > orcamento_1 and orcamento_2 > orcamento_3:\n",
    "    print('O maior orçamento é {}'.format(orcamento_2))\n",
    "elif orcamento_3 > orcamento_1 and orcamento_3 > orcamento_2:\n",
    "    print('O maior orçamento é {}'.format(orcamento_3))\n",
    "\n",
    "if orcamento_1 < orcamento_2 and orcamento_1 < orcamento_3:\n",
    "    print('O menor orçamento é {}'.format(orcamento_1))\n",
    "elif orcamento_2 < orcamento_1 and orcamento_2 < orcamento_3:\n",
    "    print('O menor orçamento é {}'.format(orcamento_2))\n",
    "elif orcamento_3 < orcamento_1 and orcamento_3 < orcamento_2:\n",
    "    print('O menor orçamento é {}'.format(orcamento_3))"
   ]
  },
  {
   "cell_type": "code",
   "execution_count": 17,
   "metadata": {},
   "outputs": [
    {
     "name": "stdout",
     "output_type": "stream",
     "text": [
      "O produto mais barato é o terceiro e custa 30.0 AOA\n"
     ]
    }
   ],
   "source": [
    "# 8. Programa que auxiliar o comprador na seleção do produto mais barato tendo em conta a entrada de 3 produtos\n",
    "\n",
    "produto_1 = float(input('Informe o preço do primeiro produto em AOA: '))\n",
    "produto_2 = float(input('Informe o preço do segundo produto em AOA: '))\n",
    "produto_3 = float(input('Informe o preço do terceiro produto em AOA: '))\n",
    "\n",
    "if produto_1 < produto_2 and produto_1 < produto_3:\n",
    "    print(f'O produto mais barato é o primeiro e custa {produto_1} AOA')\n",
    "elif produto_2 < produto_1 and produto_2 < produto_3:\n",
    "    print(f'O produto mais barato é o segundo e custa {produto_2} AOA')\n",
    "elif produto_3 < produto_1 and produto_3 < produto_2:\n",
    "    print(f'O produto mais barato é o terceiro e custa {produto_3} AOA')"
   ]
  },
  {
   "cell_type": "code",
   "execution_count": 18,
   "metadata": {},
   "outputs": [
    {
     "name": "stdout",
     "output_type": "stream",
     "text": [
      "O 1° maior é 9.0\n",
      "O 2° maior é 3.0\n",
      "O 3° maior é 1.0\n"
     ]
    }
   ],
   "source": [
    "# 9. Programa que lê três números e apresenta em ordem decrescente\n",
    "\n",
    "num_1 = float(input('Informe o 1° número: '))\n",
    "num_2 = float(input('Informe o 2° número: '))\n",
    "num_3 = float(input('Informe o 3° número: '))\n",
    "\n",
    "if num_1 > num_2 and num_1 > num_3:\n",
    "    print('O 1° maior é {}'.format(num_1))\n",
    "    if num_2 > num_3:\n",
    "        print('O 2° maior é {}'.format(num_2))\n",
    "        print('O 3° maior é {}'.format(num_3))\n",
    "    else:\n",
    "        print('O 2° maior é {}'.format(num_3))\n",
    "        print('O 3° maior é {}'.format(num_2))\n",
    "elif num_2 > num_1 and num_2 > num_3:\n",
    "    print('O 1° maior é {}'.format(num_2))\n",
    "    if num_1 > num_3:\n",
    "        print('O 2° maior é {}'.format(num_1))\n",
    "        print('O 3° maior é {}'.format(num_3))\n",
    "    else:\n",
    "        print('O 2° maior é {}'.format(num_3))\n",
    "        print('O 3° maior é {}'.format(num_1))\n",
    "elif num_3 > num_1 and num_3 > num_2:\n",
    "    print('O 1° maior é {}'.format(num_3))\n",
    "    if num_1 > num_2:\n",
    "        print('O 2° maior é {}'.format(num_1))\n",
    "        print('O 3° maior é {}'.format(num_2))\n",
    "    else:\n",
    "        print('O 2° maior é {}'.format(num_2))\n",
    "        print('O 3° maior é {}'.format(num_1))"
   ]
  },
  {
   "cell_type": "code",
   "execution_count": 21,
   "metadata": {},
   "outputs": [
    {
     "name": "stdout",
     "output_type": "stream",
     "text": [
      "Boa Noite!\n"
     ]
    }
   ],
   "source": [
    "# 10. Um programa que  pergunta o turno e emite a mensagem \"Bom-dia, Boa tarde ou Boa noite\", lembrando que M-Matutino, V-Vespertino e N-Noturno\n",
    "\n",
    "turno = input('Informe o turno')\n",
    "\n",
    "if turno == 'M' or turno == 'm':\n",
    "    print('Bom dia!')\n",
    "elif turno == 'V' or turno == 'v':\n",
    "    print('Boa tarde!')\n",
    "elif turno == 'N' or turno == 'n':\n",
    "    print('Boa Noite!')\n",
    "else:\n",
    "    print('Valor Inválido!')"
   ]
  },
  {
   "cell_type": "code",
   "execution_count": 22,
   "metadata": {},
   "outputs": [
    {
     "name": "stdout",
     "output_type": "stream",
     "text": [
      "Salário antes do reajuste: R$ 5600.0\n",
      "Percentual de aumento: 5.0%\n",
      "O aumento foi de R$ 280.0\n",
      "Salário após aumento: R$ 5880.0\n"
     ]
    }
   ],
   "source": [
    "# 11. Um programa que recebe o salário de um colaborador e o reajuste o seguinte critério, basedado no salário atual:\n",
    "\n",
    "salario = float(input('Informe o salário em R$: '))\n",
    "\n",
    "if salario <= 280:\n",
    "    percentual = 0.2\n",
    "elif salario <= 700:\n",
    "    percentual = 0.15\n",
    "elif salario <= 1500:\n",
    "    percentual = 0.1\n",
    "else:\n",
    "    percentual = 0.05\n",
    "\n",
    "novo_salario = salario * (1 + percentual)\n",
    "aumento = novo_salario - salario\n",
    "\n",
    "print(f'Salário antes do reajuste: R$ {salario}')\n",
    "print(f'Percentual de aumento: {percentual * 100}%')\n",
    "print(f'O aumento foi de R$ {aumento}')\n",
    "print(f'Salário após aumento: R$ {novo_salario}')"
   ]
  },
  {
   "cell_type": "code",
   "execution_count": null,
   "metadata": {},
   "outputs": [],
   "source": [
    "# 12. Um programa para o cálculo de um falha de pagamento, sabendo que os descontos são os impostos de renda, que dependo do salário bruto. \n",
    "# O FGTS corresponde a 11% do salário bruto, mas não é descontado (é a empresa que deposita). \n",
    "# O Salário Líquido corresponde ao Salário Bruto, menos os descontos. \n",
    "# O Programa deverá pedir ao usário o valor da sua hora, e a  quantidade de horas trabalhadas no mês.\n",
    "\n"
   ]
  }
 ],
 "metadata": {
  "kernelspec": {
   "display_name": ".venv",
   "language": "python",
   "name": "python3"
  },
  "language_info": {
   "codemirror_mode": {
    "name": "ipython",
    "version": 3
   },
   "file_extension": ".py",
   "mimetype": "text/x-python",
   "name": "python",
   "nbconvert_exporter": "python",
   "pygments_lexer": "ipython3",
   "version": "3.12.4"
  }
 },
 "nbformat": 4,
 "nbformat_minor": 2
}
