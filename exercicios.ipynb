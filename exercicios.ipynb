{
 "cells": [
  {
   "cell_type": "markdown",
   "metadata": {},
   "source": [
    "# Lista de Exercícios Básicos"
   ]
  },
  {
   "cell_type": "code",
   "execution_count": 1,
   "metadata": {},
   "outputs": [
    {
     "name": "stdout",
     "output_type": "stream",
     "text": [
      "Olá mundo!\n"
     ]
    }
   ],
   "source": [
    "# 1. Um programa que imprime a mensagem \"Olá Mundo!\"\n",
    "\n",
    "print('Olá mundo!')"
   ]
  },
  {
   "cell_type": "code",
   "execution_count": 3,
   "metadata": {},
   "outputs": [
    {
     "name": "stdout",
     "output_type": "stream",
     "text": [
      "O número informado é 76. \n"
     ]
    }
   ],
   "source": [
    "# 2. Um programa que peça um número e informa ao utilizador o número digitado.\n",
    "\n",
    "numero = int(input('Informe um número: '))\n",
    "print('O número informado é {}. '.format(numero))"
   ]
  },
  {
   "cell_type": "code",
   "execution_count": 4,
   "metadata": {},
   "outputs": [
    {
     "name": "stdout",
     "output_type": "stream",
     "text": [
      "A soma entre 23  e 28 é 51\n"
     ]
    }
   ],
   "source": [
    "## 3. Programa que soma dois números\n",
    "\n",
    "numero1 = int(input('Informe o primeiro número: '))\n",
    "numero2 =  int(input('Informe o segundo número: '))\n",
    "\n",
    "soma = numero1 + numero2\n",
    "\n",
    "print(f'A soma entre {numero1}  e {numero2} é {soma}')"
   ]
  },
  {
   "cell_type": "code",
   "execution_count": 7,
   "metadata": {},
   "outputs": [
    {
     "name": "stdout",
     "output_type": "stream",
     "text": [
      "A média entre 16, 12, 19 e 20 é 16.75\n"
     ]
    }
   ],
   "source": [
    "# 4. Calcular a média de um aluno\n",
    "nota1 = int(input('Informe a nota 1: '))\n",
    "nota2 = int(input('Informe a nota 2: '))\n",
    "nota3 = int(input('Informe a nota 3: '))\n",
    "nota4 = int(input('Informe a nota 4: '))\n",
    "\n",
    "media = (nota1 + nota2 + nota3 + nota4) / 4\n",
    "\n",
    "print(f'A média entre {nota1}, {nota2}, {nota3} e {nota4} é {media}')\n"
   ]
  },
  {
   "cell_type": "code",
   "execution_count": 1,
   "metadata": {},
   "outputs": [
    {
     "name": "stdout",
     "output_type": "stream",
     "text": [
      "Este comprimento em centímetros é:  300.0 cm\n"
     ]
    }
   ],
   "source": [
    "# 5. Faça um programa que converta metros para centímetros. Você pode pedir o comprimento em metros para o usuário.\n",
    "\n",
    "comprimento_m = float(input('Informe um cumprimento em metros: '))\n",
    "comprimento_cm = comprimento_m * 100\n",
    "print('Este comprimento em centímetros é: ',comprimento_cm,'cm')"
   ]
  },
  {
   "cell_type": "code",
   "execution_count": 2,
   "metadata": {},
   "outputs": [
    {
     "name": "stdout",
     "output_type": "stream",
     "text": [
      "A área da sala é:  24.0 m²\n"
     ]
    }
   ],
   "source": [
    "# 6. Faça um progrma que calcula a área de uma sala de estar. Para isso, o seu programa precisa pedir a largura da sala, comprimento da sala e imprimir a área em m² da sala.\n",
    "\n",
    "largura = float(input('Informe a largura da sala em metros: '))\n",
    "comprimento = float(input('Informe o comprimento da sala em metros: '))\n",
    "area = largura * comprimento\n",
    "print('A área da sala é: ', area, 'm²')"
   ]
  },
  {
   "cell_type": "code",
   "execution_count": 4,
   "metadata": {},
   "outputs": [
    {
     "name": "stdout",
     "output_type": "stream",
     "text": [
      "O salário do mês foi: R$  8400.0\n"
     ]
    }
   ],
   "source": [
    "# 7. Faça um programa que pergunte quanto você ganha por hora e o número de horas trabalhadas no mês. Calcule e mostre o total do seu salário no referido mês.\n",
    "\n",
    "valor_hora = float(input('Informe o valor ganho por hora em R$/h: '))\n",
    "horas_trabalhadas = float(input('Informe a quantidade de horas trabalhadas do mês: '))\n",
    "total = valor_hora * horas_trabalhadas\n",
    "print('O salário do mês foi: R$ ',total)"
   ]
  },
  {
   "cell_type": "code",
   "execution_count": 5,
   "metadata": {},
   "outputs": [
    {
     "name": "stdout",
     "output_type": "stream",
     "text": [
      "A temperatura é:  20.0 °C\n"
     ]
    }
   ],
   "source": [
    "# 8. Vamos criar um conversor de temperatura. Faça um programa que peça a temperatura em graus Fahrenheit transforme e mostre a temperatura em graus Celsius.\n",
    "\n",
    "temperatura_f = float(input('Informe a temperatura em Fahrenheit: '))\n",
    "temperatura_c = (5 / 6) * (temperatura_f - 32)\n",
    "print('A temperatura é: ',temperatura_c,'°C')"
   ]
  },
  {
   "cell_type": "code",
   "execution_count": 6,
   "metadata": {},
   "outputs": [
    {
     "name": "stdout",
     "output_type": "stream",
     "text": [
      "A temperatura em Fahrenheit é:  93.2 °F\n"
     ]
    }
   ],
   "source": [
    "# 9. Faça um programa que peça a temperatura em graus Celsius, transforme e mostre em graus Fahenheit.\n",
    "\n",
    "temperatura_c = float(input('Informe a temperatura em Celsius: '))\n",
    "temperatura_f = (9 / 5) * temperatura_c + 32\n",
    "print('A temperatura em Fahrenheit é: ',temperatura_f,'°F')"
   ]
  },
  {
   "cell_type": "code",
   "execution_count": 8,
   "metadata": {},
   "outputs": [
    {
     "name": "stdout",
     "output_type": "stream",
     "text": [
      "O peso ideial é:  67.044 Kg\n"
     ]
    }
   ],
   "source": [
    "# 10. Tendo como dados de entrada a altura (h) de uma pessoa, construa um algoritmo que calcule seu peso ideal, usando a seguinte formula:\n",
    "# P = 72, 7h - 58\n",
    "# lembrando que \"algoritmo\" nada mais é do que um programa, como todos os outros que você está fazendo\n",
    "\n",
    "altura = float(input('Informe a altura em metros: '))\n",
    "peso_ideal = 72.7 * altura - 58\n",
    "print('O peso ideial é: ',peso_ideal,'Kg')\n"
   ]
  },
  {
   "cell_type": "code",
   "execution_count": 9,
   "metadata": {},
   "outputs": [
    {
     "name": "stdout",
     "output_type": "stream",
     "text": [
      "O peso ideal com altura para homens é:  67.044 Kg\n",
      "O peso ideal com altura para mulheres é:  62.111999999999995 Kg\n"
     ]
    }
   ],
   "source": [
    "# 11. Tendo como dados de entrada a altura (h) de uma pessoa, construa um algoritmo que calcule seu peso ideal, usando a seguinte formula:\n",
    "# a) Para homens: 72,7h - 58\n",
    "# b) Para mulheres: 62,1h - 44,7 \n",
    "# lembrando que \"algoritmo\" nada mais é do que um programa, como todos os outros que você está fazendo\n",
    "\n",
    "altura = float(input('Informe a altura em metros: '))\n",
    "peso_ideal_homens = 72.7 * altura - 58\n",
    "peso_ideal_mulheres = 62.1 * altura - 44.7\n",
    "\n",
    "print('O peso ideal com altura para homens é: ',peso_ideal_homens,'Kg')\n",
    "print('O peso ideal com altura para mulheres é: ',peso_ideal_mulheres,'Kg')"
   ]
  },
  {
   "cell_type": "code",
   "execution_count": 13,
   "metadata": {},
   "outputs": [
    {
     "name": "stdout",
     "output_type": "stream",
     "text": [
      "O salário bruto é R$ 31000.0\n",
      "O desconto do IR é R$ 3410.0\n",
      "O desconto do INSS é R$ 2480.0\n",
      "O desconto sindicato é R$ 1550.0\n",
      "O salário líquido é R$ 23560.0\n"
     ]
    }
   ],
   "source": [
    "# 12. Faça um programa que pergunte quanto você ganha por hora e o número de horas trabalhadas no mês.\n",
    "\n",
    "remuneracao = float(input('Informe a remuneração em R$ por hora: '))\n",
    "horas_trabalhadas = int(input('Informe a quantidade de horas trabalhadas: '))\n",
    "\n",
    "# calcule o salário bruto (horas * salario por hora)\n",
    "salario_bruto = remuneracao * horas_trabalhadas\n",
    "print('O salário bruto é R$',salario_bruto)\n",
    "\n",
    "# Calcule o desconte do IR (11% do salário bruro)\n",
    "ir = salario_bruto * 0.11\n",
    "print('O desconto do IR é R$',ir)\n",
    "\n",
    "# Calcule o desconto do INSS (8% do salário bruto)\n",
    "inss = salario_bruto * 0.08\n",
    "print('O desconto do INSS é R$',inss)\n",
    "\n",
    "# Calucule o desconto do sindicato (5% do salário bruto)\n",
    "sindicato = salario_bruto * 0.05\n",
    "print('O desconto sindicato é R$',sindicato)\n",
    "\n",
    "\n",
    "# Calcule o salário líquido (salário bruto - descontos)\n",
    "salario_liquido = salario_bruto - (ir + inss + sindicato)\n",
    "print('O salário líquido é R$',salario_liquido)\n"
   ]
  },
  {
   "cell_type": "code",
   "execution_count": 15,
   "metadata": {},
   "outputs": [
    {
     "name": "stdout",
     "output_type": "stream",
     "text": [
      "Serão necessárias 1.851851851851852 lastas, custando R$ 185.18518518518522 no total\n",
      "Serão necessárias 1.85 lastas, custando R$ 185.19 no total\n"
     ]
    }
   ],
   "source": [
    "# 13. Faça um programa para uma loja de tintas. O programa deverá pedir o tamanho em metros quadradas da área a ser pintada. \n",
    "# Considere que a cobertura da tinta é de 1 litro para cada 3 metros quadrados e que a tinta é vendida em latas de 18 litros, que custam R$ 100,00. \n",
    "# Informe ao usuário a quantidade de latas de tinta a serem compradas e o preço total. (para simplificação nessa momento, \n",
    "# não se preocupe em arredondar de latas a serem compradas)\n",
    "\n",
    "area = float(input('Informe o tamanho da área a ser pintada em m²: '))\n",
    "litros_tinta = area / 3\n",
    "latas = litros_tinta / 18\n",
    "preco = latas * 100\n",
    "\n",
    "print(f'Serão necessárias {latas} lastas, custando R$ {preco} no total')\n",
    "\n",
    "# Resultado arredenondados\n",
    "print(f'Serão necessárias {latas:.2f} lastas, custando R$ {preco:.2f} no total')"
   ]
  },
  {
   "cell_type": "code",
   "execution_count": 17,
   "metadata": {},
   "outputs": [
    {
     "name": "stdout",
     "output_type": "stream",
     "text": [
      "O tempo de download é de 34.13 minutos\n"
     ]
    }
   ],
   "source": [
    "# 14. Faça um programa que peço o tamanho de um arquivo para o download (em MB) e a verdade de um link de Internet (em Mbps). \n",
    "# Calcule e informe o tempo aproximado de download do arquivo usando este link (em minutos).\n",
    "# Detalhes: MB significa megabyte, Mb (com b minúsculo) significa megabit. Um megabit 1/8 de um megabyte.\n",
    "\n",
    "tamanho = float(input('Informe o tamnho do arquivo em MB: '))\n",
    "velocidade = float(input('Informe a velocidade da conexao em Mbps: '))\n",
    "\n",
    "# aqui transformaremos megabytes em megabits para que tamanho e velocidade estejam na mesma unidade\n",
    "tamanho_megabits = tamanho * 8\n",
    "\n",
    "tempo = tamanho_megabits / velocidade\n",
    "\n",
    "# transformando em minutos\n",
    "tempo_minutos = tempo / 60 \n",
    "\n",
    "print(f'O tempo de download é de {tempo_minutos:.2f} minutos')\n"
   ]
  }
 ],
 "metadata": {
  "kernelspec": {
   "display_name": ".venv",
   "language": "python",
   "name": "python3"
  },
  "language_info": {
   "codemirror_mode": {
    "name": "ipython",
    "version": 3
   },
   "file_extension": ".py",
   "mimetype": "text/x-python",
   "name": "python",
   "nbconvert_exporter": "python",
   "pygments_lexer": "ipython3",
   "version": "3.12.4"
  }
 },
 "nbformat": 4,
 "nbformat_minor": 2
}
