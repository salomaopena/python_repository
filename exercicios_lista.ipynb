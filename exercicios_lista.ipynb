{
 "cells": [
  {
   "cell_type": "markdown",
   "metadata": {},
   "source": [
    "##### Exercícios de com listas em Python"
   ]
  },
  {
   "cell_type": "code",
   "execution_count": 8,
   "metadata": {},
   "outputs": [
    {
     "name": "stdout",
     "output_type": "stream",
     "text": [
      "[4000, 4500, 45090, 9009, 4900, 23849, 20000, 55986, 56000, 34999, 12400, 12000]\n",
      "56000\n",
      "4000\n",
      "O maior valor de vendas foi no mês de Set com a venda de 56000  e o pior valor da venda foi no mês de Jan com a venda de 4000\n",
      "Faturamento total: R$ 282,733\n"
     ]
    }
   ],
   "source": [
    "# Facturamento do melhor e pior mês\n",
    "meses = ['Jan','Fev','Mar','Abr','Mai','Jun','Jul','Ago','Set','Out','Nov','Dez']\n",
    "vendas_1sem = [4000, 4500, 45090, 9009, 4900, 23849]\n",
    "vendas_2sem = [20000, 55986, 56000, 34999, 12400, 12000]\n",
    "\n",
    "vendas_1sem.extend(vendas_2sem)\n",
    "print(vendas_1sem)\n",
    "\n",
    "maior_valor = max(vendas_1sem)\n",
    "menor_valor = min(vendas_1sem)\n",
    "\n",
    "print(maior_valor)\n",
    "print(menor_valor)\n",
    "\n",
    "i_maior_valor = vendas_1sem.index(maior_valor)\n",
    "i_menor_valor = vendas_1sem.index(menor_valor)\n",
    "\n",
    "print('O maior valor de vendas foi no mês de {0} com a venda de {1}  e o pior valor da venda foi no mês de {2} com a venda de {3}'.format(meses[i_maior_valor], maior_valor, meses[i_menor_valor], menor_valor))\n",
    "\n",
    "\n",
    "venda_total = sum(vendas_1sem)\n",
    "print('Faturamento total: R$ {:,}'.format(venda_total))\n"
   ]
  }
 ],
 "metadata": {
  "kernelspec": {
   "display_name": ".venv",
   "language": "python",
   "name": "python3"
  },
  "language_info": {
   "codemirror_mode": {
    "name": "ipython",
    "version": 3
   },
   "file_extension": ".py",
   "mimetype": "text/x-python",
   "name": "python",
   "nbconvert_exporter": "python",
   "pygments_lexer": "ipython3",
   "version": "3.12.4"
  }
 },
 "nbformat": 4,
 "nbformat_minor": 2
}
