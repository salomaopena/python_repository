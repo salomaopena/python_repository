{
 "cells": [
  {
   "cell_type": "markdown",
   "metadata": {},
   "source": [
    "#### Format e suas veriação\n",
    "\n",
    ":<          Alinha o texto à esquerda (se tiver espaço na tela para isso)<br>\n",
    ":>          Alina o texto a direita (se tiver espaço na tela para isso)<br>\n",
    ":^          Alinha o texto ao centro (se tiver espaço na tela para isso)<br>\n",
    ":+          Coloca o sinal sempre na frente do número (independentemente se é ou não positivo)<br>\n",
    ":,          Coloca a vígula como separadores de milhares<br>\n",
    ":_          Coloca o _ como separador de milhares<br>\n",
    ":e          Anotação científica<br>\n",
    ":f          Número com quantidade fixa de casas decimais<br>\n",
    ":x          Formato Hex minúsculo (para cores)<br>\n",
    ":X          Formanto Hex maiúscula (para cores)<br>\n",
    ":%          Formato percentual<br>"
   ]
  },
  {
   "cell_type": "code",
   "execution_count": 14,
   "metadata": {},
   "outputs": [
    {
     "name": "stdout",
     "output_type": "stream",
     "text": [
      "A margem de lucro foi de 96.0%\n",
      "O Faturamento foi de R$ 25,000.00 e o lucro foi R$ 24,000.00\n",
      "R$ 24.000,00\n"
     ]
    }
   ],
   "source": [
    "# formato de moeda\n",
    "custo = 1000\n",
    "faturamento = 25000\n",
    "lucro = faturamento - custo\n",
    "margem = lucro / faturamento\n",
    "\n",
    "print('A margem de lucro foi de {:.1%}'.format(margem))\n",
    "print('O Faturamento foi de R$ {:,.2f} e o lucro foi R$ {:,.2f}'.format(faturamento,lucro))\n",
    "\n",
    "lucro_texto = 'R$ {:_.2f}'.format(lucro)\n",
    "print(lucro_texto.replace('.',',').replace('_','.'))\n",
    "\n"
   ]
  },
  {
   "cell_type": "code",
   "execution_count": 17,
   "metadata": {},
   "outputs": [
    {
     "name": "stdout",
     "output_type": "stream",
     "text": [
      "Digite corretamente o CPF\n"
     ]
    }
   ],
   "source": [
    "# Cadastro de CPF\n",
    "cpf = input('Informe um CPF')\n",
    "\n",
    "if len(cpf) == 11 and cpf.isnumeric:\n",
    "    print('O CPF informado é {}'.format(cpf))\n",
    "else:\n",
    "    print('Digite corretamente o CPF e digite apenas número')"
   ]
  },
  {
   "cell_type": "code",
   "execution_count": 18,
   "metadata": {},
   "outputs": [
    {
     "name": "stdout",
     "output_type": "stream",
     "text": [
      "O CPF informado é 10209809234\n"
     ]
    }
   ],
   "source": [
    "# Cadastro de CPF parte 2\n",
    "cpf = input('Informe um CPF')\n",
    "#Remover espaços no principio e no fim\n",
    "cpf = cpf.strip()\n",
    "# Remover os pontos\n",
    "cpf = cpf.replace('.','')\n",
    "#Remover o traço\n",
    "cpf = cpf.replace('-','')\n",
    "\n",
    "if len(cpf) == 11 and cpf.isnumeric:\n",
    "    print('O CPF informado é {}'.format(cpf))\n",
    "else:\n",
    "    print('Digite corretamente o CPF e digite apenas número')"
   ]
  },
  {
   "cell_type": "code",
   "execution_count": 23,
   "metadata": {},
   "outputs": [
    {
     "name": "stdout",
     "output_type": "stream",
     "text": [
      "Cadastro concluído\n",
      "Nome Informando: Salomão \n",
      "Email Informado: pena@gmail.com\n"
     ]
    }
   ],
   "source": [
    "# Validando Email\n",
    "\n",
    "nome = input('Informe o seu nome: ')\n",
    "email = input('Informe o seu email: ')\n",
    "\n",
    "if nome and email:\n",
    "    pos_arroba = email.find('@')\n",
    "    dominio = email[pos_arroba:]\n",
    "    if pos_arroba != -1 and '.' in dominio:\n",
    "        print('Cadastro concluído')\n",
    "        print('Nome Informando: {0} \\nEmail Informado: {1}'.format(nome, email))\n",
    "    else:\n",
    "        print('Email inválido')\n",
    "else:\n",
    "    print('Digite os dados corretamente')"
   ]
  },
  {
   "cell_type": "code",
   "execution_count": 26,
   "metadata": {},
   "outputs": [
    {
     "name": "stdout",
     "output_type": "stream",
     "text": [
      "Jan: 25\n",
      " Mar: 29\n"
     ]
    }
   ],
   "source": [
    "#Cortar textos em Python\n",
    "preco = 'Jan: 25, Fev: 27, Mar: 29'\n",
    "preco_jan = preco[:7]\n",
    "print(preco_jan)\n",
    "\n",
    "preco_mar = preco[-8:]\n",
    "print(preco_mar)"
   ]
  }
 ],
 "metadata": {
  "kernelspec": {
   "display_name": ".venv",
   "language": "python",
   "name": "python3"
  },
  "language_info": {
   "codemirror_mode": {
    "name": "ipython",
    "version": 3
   },
   "file_extension": ".py",
   "mimetype": "text/x-python",
   "name": "python",
   "nbconvert_exporter": "python",
   "pygments_lexer": "ipython3",
   "version": "3.12.4"
  }
 },
 "nbformat": 4,
 "nbformat_minor": 2
}
