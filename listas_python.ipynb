{
 "cells": [
  {
   "cell_type": "markdown",
   "metadata": {},
   "source": [
    "#### Lista em Python\n",
    "Estrutura básica *Lista = [valor1, valor2, valor3, valor4, valor5...]*"
   ]
  },
  {
   "cell_type": "code",
   "execution_count": 5,
   "metadata": {},
   "outputs": [
    {
     "name": "stdout",
     "output_type": "stream",
     "text": [
      "['Telefone', 'Teclado', 'Rato', 'Tablet', 'Joystick']\n"
     ]
    }
   ],
   "source": [
    "# Lista de produtos \n",
    "\n",
    "produtos = ['Telefone', 'Teclado', 'Rato', 'Tablet', 'Joystick']\n",
    "\n",
    "print(produtos)"
   ]
  },
  {
   "cell_type": "code",
   "execution_count": 6,
   "metadata": {},
   "outputs": [
    {
     "name": "stdout",
     "output_type": "stream",
     "text": [
      "[10000, 2000, 5000, 2000, 3400]\n"
     ]
    }
   ],
   "source": [
    "# Lista de unidades vendidas\n",
    "\n",
    "vendas = [10000, 2000, 5000, 2000, 3400]\n",
    "\n",
    "print(vendas)"
   ]
  },
  {
   "cell_type": "code",
   "execution_count": 12,
   "metadata": {},
   "outputs": [
    {
     "name": "stdout",
     "output_type": "stream",
     "text": [
      "As vendas do produtos \"Teclado\" form de \"5000\" unidades. \n"
     ]
    }
   ],
   "source": [
    "# imprimir em função do índice\n",
    "print('As vendas do produtos \\\"{}\\\" form de \\\"{}\\\" unidades. '.format(produtos[1], vendas[1]))"
   ]
  }
 ],
 "metadata": {
  "kernelspec": {
   "display_name": ".venv",
   "language": "python",
   "name": "python3"
  },
  "language_info": {
   "codemirror_mode": {
    "name": "ipython",
    "version": 3
   },
   "file_extension": ".py",
   "mimetype": "text/x-python",
   "name": "python",
   "nbconvert_exporter": "python",
   "pygments_lexer": "ipython3",
   "version": "3.12.4"
  }
 },
 "nbformat": 4,
 "nbformat_minor": 2
}
