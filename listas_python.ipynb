{
 "cells": [
  {
   "cell_type": "markdown",
   "metadata": {},
   "source": [
    "#### Lista em Python\n",
    "Estrutura básica *Lista = [valor1, valor2, valor3, valor4, valor5...]*"
   ]
  },
  {
   "cell_type": "code",
   "execution_count": 1,
   "metadata": {},
   "outputs": [
    {
     "name": "stdout",
     "output_type": "stream",
     "text": [
      "['Telefone', 'Teclado', 'Rato', 'Tablet', 'Joystick']\n"
     ]
    }
   ],
   "source": [
    "# Lista de produtos \n",
    "\n",
    "produtos = ['Telefone', 'Teclado', 'Rato', 'Tablet', 'Joystick']\n",
    "\n",
    "print(produtos)"
   ]
  },
  {
   "cell_type": "code",
   "execution_count": 2,
   "metadata": {},
   "outputs": [
    {
     "name": "stdout",
     "output_type": "stream",
     "text": [
      "[10000, 2000, 5000, 2000, 3400]\n"
     ]
    }
   ],
   "source": [
    "# Lista de unidades vendidas\n",
    "\n",
    "vendas = [10000, 2000, 5000, 2000, 3400]\n",
    "\n",
    "print(vendas)"
   ]
  },
  {
   "cell_type": "code",
   "execution_count": 3,
   "metadata": {},
   "outputs": [
    {
     "name": "stdout",
     "output_type": "stream",
     "text": [
      "As vendas do produtos \"Teclado\" form de \"2000\" unidades. \n"
     ]
    }
   ],
   "source": [
    "# imprimir em função do índice\n",
    "print('As vendas do produtos \\\"{}\\\" form de \\\"{}\\\" unidades. '.format(produtos[1], vendas[1]))"
   ]
  },
  {
   "cell_type": "code",
   "execution_count": 7,
   "metadata": {},
   "outputs": [
    {
     "name": "stdout",
     "output_type": "stream",
     "text": [
      "A quantidade em estoque da Rato é 5000\n"
     ]
    }
   ],
   "source": [
    "# Descobrir o índice do produto\n",
    "\n",
    "i = produtos.index('Rato')\n",
    "qtd = vendas[i]\n",
    "\n",
    "print('A quantidade em estoque da {0} é {1}'.format(produtos[i], qtd))"
   ]
  },
  {
   "cell_type": "code",
   "execution_count": 10,
   "metadata": {},
   "outputs": [
    {
     "name": "stdout",
     "output_type": "stream",
     "text": [
      "['Telefone', 'Teclado', 'Rato', 'Tablet', 'Joystick', 'Maça', 'Ipdade', 'Iphone'] 234444\n"
     ]
    }
   ],
   "source": [
    "# Adicionar um produto na lista:\n",
    "\n",
    "produto = input('Informe de um produto: ')\n",
    "qtd = int(input('Informe a quantidade: '))\n",
    "if produto and qtd:\n",
    "    produtos.append(produto.capitalize())\n",
    "    vendas.append(qtd)\n",
    "    print(produtos,qtd)\n",
    "else:\n",
    "    print('informe um produto válido!')"
   ]
  },
  {
   "cell_type": "code",
   "execution_count": 13,
   "metadata": {},
   "outputs": [
    {
     "name": "stdout",
     "output_type": "stream",
     "text": [
      "['Telefone', 'Teclado', 'Rato', 'Tablet', 'Joystick', 'Maça', 'Iphone']\n",
      "['Telefone', 'Teclado', 'Rato', 'Tablet', 'Joystick', 'Iphone']\n"
     ]
    }
   ],
   "source": [
    "print(produtos)\n",
    "produtos.remove('Maça')\n",
    "print(produtos)"
   ]
  },
  {
   "cell_type": "code",
   "execution_count": 26,
   "metadata": {},
   "outputs": [
    {
     "name": "stdout",
     "output_type": "stream",
     "text": [
      "Iphone\n",
      "Joystick\n",
      "Rato\n",
      "Tablet\n",
      "Teclado\n",
      "Telefone\n",
      "Iphone\n",
      "Joystick\n",
      "Rato\n",
      "Tablet\n",
      "Teclado\n",
      "Telefone\n"
     ]
    }
   ],
   "source": [
    "for p in range(0,len(produtos)):\n",
    "    print(produtos[p])\n",
    "\n",
    "for i in produtos:\n",
    "    print(i)"
   ]
  },
  {
   "cell_type": "code",
   "execution_count": 28,
   "metadata": {},
   "outputs": [
    {
     "name": "stdout",
     "output_type": "stream",
     "text": [
      "Iphone,Joystick,Rato,Tablet,Teclado,Telefone\n",
      "Iphone\n",
      "Joystick\n",
      "Rato\n",
      "Tablet\n",
      "Teclado\n",
      "Telefone\n"
     ]
    }
   ],
   "source": [
    "# O uso do join\n",
    "print(','.join(produtos))\n",
    "print('\\n'.join(produtos))"
   ]
  },
  {
   "cell_type": "code",
   "execution_count": 31,
   "metadata": {},
   "outputs": [
    {
     "name": "stdout",
     "output_type": "stream",
     "text": [
      "O percentual de pessoas que bateram as meta é de 64.29%\n"
     ]
    }
   ],
   "source": [
    "# for + if\n",
    "vendas = [1200,300,300,1650,3000,2670,2300,400,500,200,6094,2000, 9000,1240]\n",
    "\n",
    "bateu_meta = 0\n",
    "for item in vendas:\n",
    "    if item >= 1000:\n",
    "        bateu_meta += 1\n",
    "\n",
    "qtd_funcionario = len(vendas)\n",
    "percentual = (bateu_meta / qtd_funcionario)\n",
    "\n",
    "print('O percentual de pessoas que bateram as meta é de {:.2%}'.format(percentual))"
   ]
  },
  {
   "cell_type": "code",
   "execution_count": 48,
   "metadata": {},
   "outputs": [
    {
     "name": "stdout",
     "output_type": "stream",
     "text": [
      "0 é o funcionário João\n",
      "1 é o funcionário Nilo\n",
      "2 é o funcionário Pena\n",
      "3 é o funcionário Dinis\n",
      "4 é o funcionário Aurora\n",
      "5 é o funcionário Angel\n",
      "6 é o funcionário Tomás\n",
      "7 é o funcionário André\n",
      "8 é o funcionário Joana\n",
      "9 é o funcionário Márcio\n",
      "\n",
      "\n",
      "0 é o funcionário João\n",
      "1 é o funcionário Nilo\n",
      "2 é o funcionário Pena\n",
      "3 é o funcionário Dinis\n",
      "4 é o funcionário Aurora\n",
      "5 é o funcionário Angel\n",
      "6 é o funcionário Tomás\n",
      "7 é o funcionário André\n",
      "8 é o funcionário Joana\n",
      "9 é o funcionário Márcio\n"
     ]
    }
   ],
   "source": [
    "# Pegando o índice o elemento da lista\n",
    "\n",
    "funcionarios = ['João', 'Nilo', 'Pena', 'Dinis', 'Aurora', 'Angel', 'Tomás', 'André', 'Joana', 'Márcio']\n",
    "\n",
    "for i, item in enumerate(funcionarios):\n",
    "    print('{} é o funcionário {}'.format(i, item))\n",
    "\n",
    "print('\\n')\n",
    "\n",
    "for i in range(len(funcionarios)):\n",
    "    print('{} é o funcionário {}'.format(i, funcionarios[i]))"
   ]
  },
  {
   "cell_type": "code",
   "execution_count": 56,
   "metadata": {},
   "outputs": [
    {
     "name": "stdout",
     "output_type": "stream",
     "text": [
      "['kfdjfkj', 'CPF: ']\n"
     ]
    }
   ],
   "source": [
    "# Cadastro de Hósperde\n",
    "\n",
    "qtdade_pessoas = int(input('Qual é a quantidade de pessoas? '))\n",
    "quarto = []\n",
    "\n",
    "for i in range(qtdade_pessoas):\n",
    "    nome = input('Nome da {}ª pessoa '.format(i))\n",
    "    cpf = input('CPF da {}ª pessoa'.format(i))\n",
    "    hospede = [nome, 'CPF: {}'.format(cpf)]\n",
    "    quarto.append(hospede)\n",
    "\n",
    "\n",
    "for item in quarto:\n",
    "    print(item)\n"
   ]
  }
 ],
 "metadata": {
  "kernelspec": {
   "display_name": ".venv",
   "language": "python",
   "name": "python3"
  },
  "language_info": {
   "codemirror_mode": {
    "name": "ipython",
    "version": 3
   },
   "file_extension": ".py",
   "mimetype": "text/x-python",
   "name": "python",
   "nbconvert_exporter": "python",
   "pygments_lexer": "ipython3",
   "version": "3.12.4"
  }
 },
 "nbformat": 4,
 "nbformat_minor": 2
}
