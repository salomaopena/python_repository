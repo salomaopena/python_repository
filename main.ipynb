{
 "cells": [
  {
   "cell_type": "code",
   "execution_count": 21,
   "metadata": {},
   "outputs": [],
   "source": [
    "preco = 2000\n",
    "custo = 500\n",
    "lucro = 1000"
   ]
  },
  {
   "cell_type": "code",
   "execution_count": 19,
   "metadata": {},
   "outputs": [],
   "source": [
    "def carga_tributaria(preco, custo, lucro):\n",
    "    imposto = preco - custo - lucro\n",
    "    return imposto / preco * 100\n"
   ]
  },
  {
   "cell_type": "code",
   "execution_count": 23,
   "metadata": {},
   "outputs": [
    {
     "name": "stdout",
     "output_type": "stream",
     "text": [
      "A carga tributária é de 25.0%\n"
     ]
    }
   ],
   "source": [
    "# preco = float(input(\"Digite o preço do produto: \"))\n",
    "# custo = float(input(\"Digite o custo do produto: \"))\n",
    "# lucro = float(input(\"Digite o lucro do produto: \"))\n",
    "\n",
    "print(f\"A carga tributária é de {carga_tributaria(preco, custo, lucro):.1f}%\")"
   ]
  },
  {
   "cell_type": "code",
   "execution_count": 31,
   "metadata": {},
   "outputs": [],
   "source": [
    "#padronizar cádigos de produtos\n",
    "def padronizar_codigo(lista_codigos, padrao = 'm'):\n",
    "    for i,item in enumerate(lista_codigos):\n",
    "        item = item.replace('  ', ' ')\n",
    "        item = item.strip()\n",
    "        if padrao == 'm':\n",
    "            #item = item.lower()\n",
    "            item = item.casefold()\n",
    "        elif padrao == 'M':\n",
    "            item = item.upper()\n",
    "        lista_codigos[i] = item\n",
    "    return lista_codigos\n",
    "\n"
   ]
  },
  {
   "cell_type": "code",
   "execution_count": 36,
   "metadata": {},
   "outputs": [
    {
     "name": "stdout",
     "output_type": "stream",
     "text": [
      "['ABC1234', 'AXZ5678', 'AOA91011']\n"
     ]
    }
   ],
   "source": [
    "lista_codigos = ['  Abc1234', 'AXZ5678  ', '  AoA91011  ']\n",
    "print(padronizar_codigo(lista_codigos, 'M'))"
   ]
  },
  {
   "cell_type": "code",
   "execution_count": 37,
   "metadata": {},
   "outputs": [],
   "source": [
    "def soma(*args):\n",
    "    total = 0\n",
    "    for i in args:\n",
    "        total += i\n",
    "    return total"
   ]
  },
  {
   "cell_type": "code",
   "execution_count": 38,
   "metadata": {},
   "outputs": [
    {
     "name": "stdout",
     "output_type": "stream",
     "text": [
      "3\n"
     ]
    }
   ],
   "source": [
    "print(soma(1,2))"
   ]
  },
  {
   "cell_type": "code",
   "execution_count": 39,
   "metadata": {},
   "outputs": [
    {
     "name": "stdout",
     "output_type": "stream",
     "text": [
      "55\n"
     ]
    }
   ],
   "source": [
    "print(soma(1,2,3,4,5,6,7,8,9,10))"
   ]
  },
  {
   "cell_type": "code",
   "execution_count": 43,
   "metadata": {},
   "outputs": [],
   "source": [
    "# retorna lista filtrada\n",
    "def padronizar_texto(lista, pedaco_texto):\n",
    "    lista_filtrada = []\n",
    "    for i in lista:\n",
    "        if pedaco_texto in i:\n",
    "            lista_filtrada.append(i)\n",
    "    return lista_filtrada"
   ]
  },
  {
   "cell_type": "code",
   "execution_count": 46,
   "metadata": {},
   "outputs": [
    {
     "name": "stdout",
     "output_type": "stream",
     "text": [
      "['jkl']\n"
     ]
    }
   ],
   "source": [
    "lista = ['abc', 'def', 'ghi', 'jkl']\n",
    "print(padronizar_texto(lista, 'l'))"
   ]
  },
  {
   "cell_type": "code",
   "execution_count": 73,
   "metadata": {},
   "outputs": [],
   "source": [
    "#calcular o percentual de stockout de uma empresa\n",
    "\n",
    "vendas = {'VE001':(30000,'Concluída',''),\n",
    "          'VE002':(15000,'Concluída',''),\n",
    "         'VE003':(20000,'Cancelada','Cancelado pelo cliente'),\n",
    "         'VE004':(5000,'Cancelada',''),\n",
    "         'VE005':(10000,'Concluída',''),\n",
    "         'VE006':(1455,'Cancelada','Estoque em falta'),\n",
    "         'VE007':(1344,'Cancelada','Cancelado pelo cliente')\n",
    "         }"
   ]
  },
  {
   "cell_type": "code",
   "execution_count": 76,
   "metadata": {},
   "outputs": [],
   "source": [
    "def calcular_stockout(dicionario_vendas):\n",
    "    total_vendas = 0\n",
    "    total_vendas_canceladas = 0\n",
    "    for venda in dicionario_vendas:\n",
    "        valor, status, motivo = dicionario_vendas[venda]\n",
    "        if status == 'Concluída':\n",
    "            total_vendas += valor\n",
    "        elif status == 'Cancelada' and motivo == 'Estoque em falta':\n",
    "            total_vendas_canceladas += valor\n",
    "            total_vendas += valor\n",
    "    return  total_vendas_canceladas / total_vendas"
   ]
  },
  {
   "cell_type": "code",
   "execution_count": 78,
   "metadata": {},
   "outputs": [
    {
     "name": "stdout",
     "output_type": "stream",
     "text": [
      "Percentual 2.58%: \n"
     ]
    }
   ],
   "source": [
    "print(\"Percentual {:.2%}: \".format(calcular_stockout(vendas)))"
   ]
  },
  {
   "cell_type": "code",
   "execution_count": 2,
   "metadata": {},
   "outputs": [],
   "source": [
    "#lista de inadimplentes\n",
    "inadimplentes = [\n",
    "    ('102.345.678-90', 'João da Silva', 1000,20),\n",
    "    ('102.345.678-91', 'Maria da Silva', 2000,30),\n",
    "    ('102.345.678-92', 'José da Silva', 3000,40),\n",
    "    ('102.345.678-93', 'Ana da Silva', 4000,50),\n",
    "    ('102.345.678-94', 'Pedro da Silva', 5000,60),\n",
    "    ('102.345.678-95', 'Lucas da Silva', 6000,70),\n",
    "    ('102.345.678-96', 'Fernanda da Silva', 7000,80),\n",
    "    ('102.345.678-97', 'Roberto da Silva', 8000,90),\n",
    "    ('102.345.678-98', 'Mariana da Silva', 9000,100),\n",
    "    ('102.345.678-99', 'Carla da Silva', 10000,110),\n",
    "    ('102.345.678-100', 'Ricardo da Silva', 11000,120),\n",
    "    ('102.345.678-101', 'Tatiane da Silva', 12000,130),\n",
    "    ('102.345.678-102', 'Juliana da Silva', 13000,140),\n",
    "    ('102.345.678-103', 'Thiago da Silva', 14000,150),\n",
    "    ('102.345.678-104', 'Gabriel da Silva', 15000,160),\n",
    "    ('102.345.678-105', 'Isabela da Silva', 16000,170),\n",
    "    ('102.345.678-106', 'Gustavo da Silva', 17000,180),\n",
    "    ('102.345.678-107', 'Larissa da Silva', 18000,190),\n",
    "    ('102.345.678-108', 'Eduardo da Silva', 19000,200),\n",
    "    ('102.345.678-109', 'Bruno da Silva', 20000,210)\n",
    "]"
   ]
  },
  {
   "cell_type": "code",
   "execution_count": 3,
   "metadata": {},
   "outputs": [],
   "source": [
    "# retorna lista de inadimplentes\n",
    "def listar_inadimplentes(lista_devedores):\n",
    "    lista_indimpletes = []\n",
    "    for cliente in lista_devedores:\n",
    "        cpf, nome, divida, dias = cliente\n",
    "        if divida> 1000 and dias > 20:\n",
    "            lista_indimpletes.append(cpf)\n",
    "    return lista_indimpletes\n",
    "    \n"
   ]
  },
  {
   "cell_type": "code",
   "execution_count": 4,
   "metadata": {},
   "outputs": [
    {
     "name": "stdout",
     "output_type": "stream",
     "text": [
      "102.345.678-91\n",
      "102.345.678-92\n",
      "102.345.678-93\n",
      "102.345.678-94\n",
      "102.345.678-95\n",
      "102.345.678-96\n",
      "102.345.678-97\n",
      "102.345.678-98\n",
      "102.345.678-99\n",
      "102.345.678-100\n",
      "102.345.678-101\n",
      "102.345.678-102\n",
      "102.345.678-103\n",
      "102.345.678-104\n",
      "102.345.678-105\n",
      "102.345.678-106\n",
      "102.345.678-107\n",
      "102.345.678-108\n",
      "102.345.678-109\n"
     ]
    }
   ],
   "source": [
    "\n",
    "# retorna lista de inadimplentes\n",
    "for cliente in listar_inadimplentes(inadimplentes):\n",
    "    print(cliente)\n"
   ]
  },
  {
   "cell_type": "code",
   "execution_count": 5,
   "metadata": {},
   "outputs": [],
   "source": [
    "#operações básicas\n",
    "def operacoes_basicas(numero1, numero2):\n",
    "    soma = numero1 + numero2\n",
    "    subtracao = numero1 - numero2\n",
    "    multiplicacao = numero1 * numero2\n",
    "    divisao = numero1 / numero2\n",
    "    return soma, subtracao, multiplicacao, divisao"
   ]
  },
  {
   "cell_type": "code",
   "execution_count": 9,
   "metadata": {},
   "outputs": [
    {
     "name": "stdout",
     "output_type": "stream",
     "text": [
      "(15, 5, 50, 2.0)\n"
     ]
    }
   ],
   "source": [
    "print(operacoes_basicas(10, 5))"
   ]
  },
  {
   "cell_type": "code",
   "execution_count": 21,
   "metadata": {},
   "outputs": [
    {
     "name": "stdout",
     "output_type": "stream",
     "text": [
      "[17.3, 18.5, 19.2, 20.1]\n",
      "[21.0]\n"
     ]
    }
   ],
   "source": [
    "#precificação de produtos\n",
    "preco_imovel = [17.3, 18.5, 19.2, 20.1, 21.0]\n",
    "tamanho_imoveis = [20.3, 21.5, 22.2, 23.1, 24.0]\n",
    "\n",
    "fator = 0.1\n",
    "\n",
    "i = int((1 - fator) * len(preco_imovel))\n",
    "\n",
    "preco_treino = preco_imovel[:i]\n",
    "preco_teste = preco_imovel[i:]\n",
    "print(preco_treino)\n",
    "print(preco_teste)"
   ]
  },
  {
   "cell_type": "code",
   "execution_count": 40,
   "metadata": {},
   "outputs": [],
   "source": [
    "precos_imoveis_lista = [17.3, 18.5, 19.2, 20.1, 21.0, 12.4, 13.5, 14.2, 15.1, 16.0,50.3, 51.5, 52.2, 53.1, 54.0]\n",
    "tamanho_imoveis_lista = [20.3, 21.5, 22.2, 23.1, 24.0, 25.3, 26.5, 27.2, 28.1, 29.0, 30.3, 31.5, 32.2, 33.1, 34.0]\n",
    "\n",
    "def separar_listas(precos, tamanhos, fator = 0.1):\n",
    "    if len(precos) != len(tamanhos):\n",
    "        print(\"As listas devem ter o mesmo tamanho\")\n",
    "        return [], []\n",
    "    else:\n",
    "        i = int((1-fator) * len(precos))\n",
    "        precos_imoveis_treino = precos[:i]\n",
    "        precos_imoveis_teste = precos[i:]\n",
    "        tamanhos_imoveis_treino = tamanhos[:i]\n",
    "        tamanhos_imoveis_teste = tamanhos[i:]\n",
    "        return precos_imoveis_treino, precos_imoveis_teste, tamanhos_imoveis_treino, tamanhos_imoveis_teste\n"
   ]
  },
  {
   "cell_type": "code",
   "execution_count": 46,
   "metadata": {},
   "outputs": [
    {
     "name": "stdout",
     "output_type": "stream",
     "text": [
      "([17.3, 18.5, 19.2, 20.1, 21.0, 12.4, 13.5, 14.2, 15.1, 16.0, 50.3, 51.5, 52.2], [53.1, 54.0], [20.3, 21.5, 22.2, 23.1, 24.0, 25.3, 26.5, 27.2, 28.1, 29.0, 30.3, 31.5, 32.2], [33.1, 34.0])\n"
     ]
    }
   ],
   "source": [
    "print(separar_listas(precos_imoveis_lista, tamanho_imoveis_lista, 0.1))"
   ]
  }
 ],
 "metadata": {
  "kernelspec": {
   "display_name": ".venv",
   "language": "python",
   "name": "python3"
  },
  "language_info": {
   "codemirror_mode": {
    "name": "ipython",
    "version": 3
   },
   "file_extension": ".py",
   "mimetype": "text/x-python",
   "name": "python",
   "nbconvert_exporter": "python",
   "pygments_lexer": "ipython3",
   "version": "3.12.4"
  }
 },
 "nbformat": 4,
 "nbformat_minor": 2
}
