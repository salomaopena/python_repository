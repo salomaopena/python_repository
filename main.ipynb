{
 "cells": [
  {
   "cell_type": "code",
   "execution_count": 21,
   "metadata": {},
   "outputs": [],
   "source": [
    "preco = 2000\n",
    "custo = 500\n",
    "lucro = 1000"
   ]
  },
  {
   "cell_type": "code",
   "execution_count": 19,
   "metadata": {},
   "outputs": [],
   "source": [
    "def carga_tributaria(preco, custo, lucro):\n",
    "    imposto = preco - custo - lucro\n",
    "    return imposto / preco * 100\n"
   ]
  },
  {
   "cell_type": "code",
   "execution_count": 23,
   "metadata": {},
   "outputs": [
    {
     "name": "stdout",
     "output_type": "stream",
     "text": [
      "A carga tributária é de 25.0%\n"
     ]
    }
   ],
   "source": [
    "# preco = float(input(\"Digite o preço do produto: \"))\n",
    "# custo = float(input(\"Digite o custo do produto: \"))\n",
    "# lucro = float(input(\"Digite o lucro do produto: \"))\n",
    "\n",
    "print(f\"A carga tributária é de {carga_tributaria(preco, custo, lucro):.1f}%\")"
   ]
  }
 ],
 "metadata": {
  "kernelspec": {
   "display_name": ".venv",
   "language": "python",
   "name": "python3"
  },
  "language_info": {
   "codemirror_mode": {
    "name": "ipython",
    "version": 3
   },
   "file_extension": ".py",
   "mimetype": "text/x-python",
   "name": "python",
   "nbconvert_exporter": "python",
   "pygments_lexer": "ipython3",
   "version": "3.12.4"
  }
 },
 "nbformat": 4,
 "nbformat_minor": 2
}
