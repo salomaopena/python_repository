{
 "cells": [
  {
   "cell_type": "code",
   "execution_count": 8,
   "metadata": {},
   "outputs": [],
   "source": [
    "def cadastrar_produto():\n",
    "    \"\"\"\n",
    "    Função para cadastrar um produto.\n",
    "    \"\"\"\n",
    "    produto = input(\"Digite o nome do produto: \")\n",
    "    produto = produto.casefold()\n",
    "    produto = produto.strip()\n",
    "    return produto"
   ]
  },
  {
   "cell_type": "code",
   "execution_count": 9,
   "metadata": {},
   "outputs": [
    {
     "name": "stdout",
     "output_type": "stream",
     "text": [
      "Produto cadastrado com sucesso.\n",
      "Produto cadastrado com sucesso.\n",
      "Produto cadastrado com sucesso.\n",
      "Produtos cadastrados:\n",
      "manga\n",
      "abacate\n",
      "arroz\n"
     ]
    }
   ],
   "source": [
    "produtos = []\n",
    "while True:\n",
    "    produto = cadastrar_produto()\n",
    "    if produto == \"\":\n",
    "        break\n",
    "    if produto in produtos:\n",
    "        print(\"Produto já cadastrado.\")\n",
    "        continue\n",
    "    produtos.append(produto)\n",
    "    print(\"Produto cadastrado com sucesso.\")\n",
    "print(\"Produtos cadastrados:\")\n",
    "for produto in produtos:\n",
    "    print(produto)\n"
   ]
  },
  {
   "cell_type": "code",
   "execution_count": null,
   "metadata": {},
   "outputs": [],
   "source": []
  }
 ],
 "metadata": {
  "kernelspec": {
   "display_name": "Python 3",
   "language": "python",
   "name": "python3"
  },
  "language_info": {
   "codemirror_mode": {
    "name": "ipython",
    "version": 3
   },
   "file_extension": ".py",
   "mimetype": "text/x-python",
   "name": "python",
   "nbconvert_exporter": "python",
   "pygments_lexer": "ipython3",
   "version": "3.12.2"
  }
 },
 "nbformat": 4,
 "nbformat_minor": 2
}
