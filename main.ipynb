{
 "cells": [
  {
   "cell_type": "code",
   "execution_count": 21,
   "metadata": {},
   "outputs": [],
   "source": [
    "preco = 2000\n",
    "custo = 500\n",
    "lucro = 1000"
   ]
  },
  {
   "cell_type": "code",
   "execution_count": 19,
   "metadata": {},
   "outputs": [],
   "source": [
    "def carga_tributaria(preco, custo, lucro):\n",
    "    imposto = preco - custo - lucro\n",
    "    return imposto / preco * 100\n"
   ]
  },
  {
   "cell_type": "code",
   "execution_count": 23,
   "metadata": {},
   "outputs": [
    {
     "name": "stdout",
     "output_type": "stream",
     "text": [
      "A carga tributária é de 25.0%\n"
     ]
    }
   ],
   "source": [
    "# preco = float(input(\"Digite o preço do produto: \"))\n",
    "# custo = float(input(\"Digite o custo do produto: \"))\n",
    "# lucro = float(input(\"Digite o lucro do produto: \"))\n",
    "\n",
    "print(f\"A carga tributária é de {carga_tributaria(preco, custo, lucro):.1f}%\")"
   ]
  },
  {
   "cell_type": "code",
   "execution_count": 31,
   "metadata": {},
   "outputs": [],
   "source": [
    "#padronizar cádigos de produtos\n",
    "def padronizar_codigo(lista_codigos, padrao = 'm'):\n",
    "    for i,item in enumerate(lista_codigos):\n",
    "        item = item.replace('  ', ' ')\n",
    "        item = item.strip()\n",
    "        if padrao == 'm':\n",
    "            #item = item.lower()\n",
    "            item = item.casefold()\n",
    "        elif padrao == 'M':\n",
    "            item = item.upper()\n",
    "        lista_codigos[i] = item\n",
    "    return lista_codigos\n",
    "\n"
   ]
  },
  {
   "cell_type": "code",
   "execution_count": 36,
   "metadata": {},
   "outputs": [
    {
     "name": "stdout",
     "output_type": "stream",
     "text": [
      "['ABC1234', 'AXZ5678', 'AOA91011']\n"
     ]
    }
   ],
   "source": [
    "lista_codigos = ['  Abc1234', 'AXZ5678  ', '  AoA91011  ']\n",
    "print(padronizar_codigo(lista_codigos, 'M'))"
   ]
  },
  {
   "cell_type": "code",
   "execution_count": 37,
   "metadata": {},
   "outputs": [],
   "source": [
    "def soma(*args):\n",
    "    total = 0\n",
    "    for i in args:\n",
    "        total += i\n",
    "    return total"
   ]
  },
  {
   "cell_type": "code",
   "execution_count": 38,
   "metadata": {},
   "outputs": [
    {
     "name": "stdout",
     "output_type": "stream",
     "text": [
      "3\n"
     ]
    }
   ],
   "source": [
    "print(soma(1,2))"
   ]
  },
  {
   "cell_type": "code",
   "execution_count": 39,
   "metadata": {},
   "outputs": [
    {
     "name": "stdout",
     "output_type": "stream",
     "text": [
      "55\n"
     ]
    }
   ],
   "source": [
    "print(soma(1,2,3,4,5,6,7,8,9,10))"
   ]
  },
  {
   "cell_type": "code",
   "execution_count": 43,
   "metadata": {},
   "outputs": [],
   "source": [
    "# retorna lista filtrada\n",
    "def padronizar_texto(lista, pedaco_texto):\n",
    "    lista_filtrada = []\n",
    "    for i in lista:\n",
    "        if pedaco_texto in i:\n",
    "            lista_filtrada.append(i)\n",
    "    return lista_filtrada"
   ]
  },
  {
   "cell_type": "code",
   "execution_count": 46,
   "metadata": {},
   "outputs": [
    {
     "name": "stdout",
     "output_type": "stream",
     "text": [
      "['jkl']\n"
     ]
    }
   ],
   "source": [
    "lista = ['abc', 'def', 'ghi', 'jkl']\n",
    "print(padronizar_texto(lista, 'l'))"
   ]
  },
  {
   "cell_type": "code",
   "execution_count": 73,
   "metadata": {},
   "outputs": [],
   "source": [
    "#calcular o percentual de stockout de uma empresa\n",
    "\n",
    "vendas = {'VE001':(30000,'Concluída',''),\n",
    "          'VE002':(15000,'Concluída',''),\n",
    "         'VE003':(20000,'Cancelada','Cancelado pelo cliente'),\n",
    "         'VE004':(5000,'Cancelada',''),\n",
    "         'VE005':(10000,'Concluída',''),\n",
    "         'VE006':(1455,'Cancelada','Estoque em falta'),\n",
    "         'VE007':(1344,'Cancelada','Cancelado pelo cliente')\n",
    "         }"
   ]
  },
  {
   "cell_type": "code",
   "execution_count": 76,
   "metadata": {},
   "outputs": [],
   "source": [
    "def calcular_stockout(dicionario_vendas):\n",
    "    total_vendas = 0\n",
    "    total_vendas_canceladas = 0\n",
    "    for venda in dicionario_vendas:\n",
    "        valor, status, motivo = dicionario_vendas[venda]\n",
    "        if status == 'Concluída':\n",
    "            total_vendas += valor\n",
    "        elif status == 'Cancelada' and motivo == 'Estoque em falta':\n",
    "            total_vendas_canceladas += valor\n",
    "            total_vendas += valor\n",
    "    return  total_vendas_canceladas / total_vendas"
   ]
  },
  {
   "cell_type": "code",
   "execution_count": 78,
   "metadata": {},
   "outputs": [
    {
     "name": "stdout",
     "output_type": "stream",
     "text": [
      "Percentual 2.58%: \n"
     ]
    }
   ],
   "source": [
    "print(\"Percentual {:.2%}: \".format(calcular_stockout(vendas)))"
   ]
  },
  {
   "cell_type": "code",
   "execution_count": null,
   "metadata": {},
   "outputs": [],
   "source": []
  }
 ],
 "metadata": {
  "kernelspec": {
   "display_name": ".venv",
   "language": "python",
   "name": "python3"
  },
  "language_info": {
   "codemirror_mode": {
    "name": "ipython",
    "version": 3
   },
   "file_extension": ".py",
   "mimetype": "text/x-python",
   "name": "python",
   "nbconvert_exporter": "python",
   "pygments_lexer": "ipython3",
   "version": "3.12.4"
  }
 },
 "nbformat": 4,
 "nbformat_minor": 2
}
