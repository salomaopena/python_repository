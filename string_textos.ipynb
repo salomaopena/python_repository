{
 "cells": [
  {
   "cell_type": "markdown",
   "metadata": {},
   "source": [
    "#### TRABALHANDO COM STRING EM PYTHON"
   ]
  },
  {
   "cell_type": "code",
   "execution_count": 5,
   "metadata": {},
   "outputs": [
    {
     "name": "stdout",
     "output_type": "stream",
     "text": [
      "14\n",
      "P\n"
     ]
    }
   ],
   "source": [
    "# Pegar o item de uma string: texto[item]\n",
    "# Pegar o tamanho de um texto: len(texto)\n",
    "\n",
    "email = 'pena@gmail.com'\n",
    "nome = 'Salomão Pena'\n",
    "\n",
    "print(len(email))\n",
    "print(nome[8])"
   ]
  },
  {
   "cell_type": "code",
   "execution_count": 20,
   "metadata": {},
   "outputs": [
    {
     "name": "stdout",
     "output_type": "stream",
     "text": [
      "Salomão \n",
      "gmail.com\n",
      "o P\n"
     ]
    }
   ],
   "source": [
    "#Trabalhando com índices negativos\n",
    "# Para pegar um texto de trás para frente: texto[indice] -> onde o índice é negativo\n",
    "# Para pegar o pedaço de um texto use : (dois pontos). texto[: índice] ou texto[índice :] ou ainda texto[índice : índice]\n",
    "\n",
    "print(nome[:-4])\n",
    "print(email[-9:])\n",
    "print(nome[6:-3])"
   ]
  },
  {
   "cell_type": "code",
   "execution_count": 27,
   "metadata": {},
   "outputs": [
    {
     "name": "stdout",
     "output_type": "stream",
     "text": [
      "O tamanho do email é 14 caracteres\n",
      "O primeiro caractere é p\n",
      "O Último caracter é m\n",
      "O servidor de email é gmail.com\n"
     ]
    }
   ],
   "source": [
    "# Monstrando o tamnho do email\n",
    "print(f'O tamanho do email é {str(len(email))} caracteres')\n",
    "print(f'O primeiro caractere é {email[0]}')\n",
    "print(f'O Último caracter é {email[-1]}')\n",
    "print(f'O servidor de email é {email[5:]}')"
   ]
  },
  {
   "cell_type": "markdown",
   "metadata": {},
   "source": [
    "#### Operações com String\n",
    "str --> transforma número em String <br>\n",
    "in --> Verifica se um texto solicitado está contido no informado<br>\n",
    "Operador + --> Concatenar Strings<br>\n",
    "format e {} --> Subbstitui valores<br>\n",
    "%s --> Substitui textos\n",
    "%d --> substitui números decimais"
   ]
  },
  {
   "cell_type": "code",
   "execution_count": 33,
   "metadata": {},
   "outputs": [],
   "source": [
    "faturamento = 1200\n",
    "custo = 400\n",
    "lucro = faturamento - custo"
   ]
  },
  {
   "cell_type": "code",
   "execution_count": 34,
   "metadata": {},
   "outputs": [
    {
     "name": "stdout",
     "output_type": "stream",
     "text": [
      "O faturamento da loja foi de: 1200\n"
     ]
    }
   ],
   "source": [
    "# Uso do str() e do concatenar\n",
    "print('O faturamento da loja foi de: '+str(faturamento))"
   ]
  },
  {
   "cell_type": "code",
   "execution_count": 42,
   "metadata": {},
   "outputs": [
    {
     "name": "stdout",
     "output_type": "stream",
     "text": [
      "O faturamento da loja doi de: 1200. O custo foi de 400 e o lucro foi de 800\n",
      "O faturamento da loja doi de: 1200. O custo foi de 400 e o lucro foi de 800. Lembrando que os custos foram de 800\n",
      "O faturamento da loja foi de: 1200. O custo foi 400 e o lucro foi de 800\n"
     ]
    }
   ],
   "source": [
    "# O uso do format\n",
    "print('O faturamento da loja doi de: {}. O custo foi de {} e o lucro foi de {}'.format(faturamento, custo, lucro))\n",
    "print('O faturamento da loja doi de: {0}. O custo foi de {1} e o lucro foi de {2}. Lembrando que os custos foram de {2}'.format(faturamento, custo, lucro))\n",
    "print(f'O faturamento da loja foi de: {faturamento}. O custo foi {custo} e o lucro foi de {lucro}')"
   ]
  },
  {
   "cell_type": "code",
   "execution_count": 46,
   "metadata": {},
   "outputs": [
    {
     "name": "stdout",
     "output_type": "stream",
     "text": [
      "O faturamento da loja foi de: 1200 \n",
      "O faturamento da loja doi de: 1200. O custo foi de 400 e o lucro foi de 800\n"
     ]
    }
   ],
   "source": [
    "# O uso do %s e %d \n",
    "print('O faturamento da loja foi de: %d '%faturamento)\n",
    "print('O faturamento da loja doi de: %d. O custo foi de %d e o lucro foi de %d'%(faturamento, custo, lucro))"
   ]
  },
  {
   "cell_type": "code",
   "execution_count": 49,
   "metadata": {},
   "outputs": [
    {
     "name": "stdout",
     "output_type": "stream",
     "text": [
      "True\n",
      "False\n"
     ]
    }
   ],
   "source": [
    "# Verificar se o texto existe:\n",
    "\n",
    "print('@' in 'pena@gmail.com')\n",
    "print('@' in 'pena.gmail.com')"
   ]
  },
  {
   "cell_type": "markdown",
   "metadata": {},
   "source": [
    "#### Metodos de Strings mais comuns no Python"
   ]
  },
  {
   "cell_type": "code",
   "execution_count": 50,
   "metadata": {},
   "outputs": [
    {
     "name": "stdout",
     "output_type": "stream",
     "text": [
      "Salomão\n"
     ]
    }
   ],
   "source": [
    "# Capitalize --> Primira letra maiúscula:\n",
    "\n",
    "texto = 'salomão'\n",
    "print(texto.capitalize())"
   ]
  },
  {
   "cell_type": "code",
   "execution_count": 52,
   "metadata": {},
   "outputs": [
    {
     "name": "stdout",
     "output_type": "stream",
     "text": [
      "pena\n"
     ]
    }
   ],
   "source": [
    "# uso de minúsculas\n",
    "texto = 'Pena'\n",
    "print(texto.casefold())"
   ]
  },
  {
   "cell_type": "code",
   "execution_count": 53,
   "metadata": {},
   "outputs": [
    {
     "name": "stdout",
     "output_type": "stream",
     "text": [
      "1\n"
     ]
    }
   ],
   "source": [
    "# O uso do count()\n",
    "texto = 'pena@gmail.com'\n",
    "print(texto.count('.'))"
   ]
  },
  {
   "cell_type": "code",
   "execution_count": 54,
   "metadata": {},
   "outputs": [
    {
     "name": "stdout",
     "output_type": "stream",
     "text": [
      "True\n"
     ]
    }
   ],
   "source": [
    "# uso do endsWith()\n",
    "email = 'pena@gmail.com'\n",
    "print(email.endswith('gmail.com'))"
   ]
  },
  {
   "cell_type": "code",
   "execution_count": 55,
   "metadata": {},
   "outputs": [
    {
     "name": "stdout",
     "output_type": "stream",
     "text": [
      "4\n"
     ]
    }
   ],
   "source": [
    "# O uso do find()\n",
    "email = 'pena@gmail.com'\n",
    "print(email.find('@'))"
   ]
  },
  {
   "cell_type": "code",
   "execution_count": 56,
   "metadata": {},
   "outputs": [
    {
     "name": "stdout",
     "output_type": "stream",
     "text": [
      "True\n"
     ]
    }
   ],
   "source": [
    "texto = 'Salomão123'\n",
    "print(texto.isalnum())"
   ]
  },
  {
   "cell_type": "code",
   "execution_count": 57,
   "metadata": {},
   "outputs": [
    {
     "name": "stdout",
     "output_type": "stream",
     "text": [
      "False\n"
     ]
    }
   ],
   "source": [
    "# Uso do isalpha para verificar se é tudo letras.\n",
    "texto = 'Salomão123'\n",
    "print(texto.isalpha())"
   ]
  },
  {
   "cell_type": "code",
   "execution_count": 58,
   "metadata": {},
   "outputs": [
    {
     "name": "stdout",
     "output_type": "stream",
     "text": [
      "False\n"
     ]
    }
   ],
   "source": [
    "# Uso do isnumeric para verificar se é número apenas\n",
    "texto = 'Salomão123'\n",
    "print(texto.isnumeric())"
   ]
  },
  {
   "cell_type": "code",
   "execution_count": 59,
   "metadata": {},
   "outputs": [
    {
     "name": "stdout",
     "output_type": "stream",
     "text": [
      "1000,00\n"
     ]
    }
   ],
   "source": [
    "#Uso do Replace para substituir um texto\n",
    "texto = '1000.00'\n",
    "print(texto.replace('.',','))"
   ]
  },
  {
   "cell_type": "code",
   "execution_count": 60,
   "metadata": {},
   "outputs": [
    {
     "name": "stdout",
     "output_type": "stream",
     "text": [
      "['pena', 'yahoo.com']\n"
     ]
    }
   ],
   "source": [
    "texto = 'pena@yahoo.com'\n",
    "print(texto.split('@'))"
   ]
  },
  {
   "cell_type": "code",
   "execution_count": 61,
   "metadata": {},
   "outputs": [
    {
     "name": "stdout",
     "output_type": "stream",
     "text": [
      "['Saudações bom dia, ', 'Venho informar o faturamento da loja nos últimos três meses.']\n"
     ]
    }
   ],
   "source": [
    "texto_comprido = '''Saudações bom dia, \n",
    "Venho informar o faturamento da loja nos últimos três meses.'''\n",
    "\n",
    "print(texto_comprido.splitlines())"
   ]
  },
  {
   "cell_type": "code",
   "execution_count": 62,
   "metadata": {},
   "outputs": [
    {
     "name": "stdout",
     "output_type": "stream",
     "text": [
      "Salomão Pena\n"
     ]
    }
   ],
   "source": [
    "nome = 'salomão pena'\n",
    "print(nome.title())"
   ]
  }
 ],
 "metadata": {
  "kernelspec": {
   "display_name": ".venv",
   "language": "python",
   "name": "python3"
  },
  "language_info": {
   "codemirror_mode": {
    "name": "ipython",
    "version": 3
   },
   "file_extension": ".py",
   "mimetype": "text/x-python",
   "name": "python",
   "nbconvert_exporter": "python",
   "pygments_lexer": "ipython3",
   "version": "3.12.4"
  }
 },
 "nbformat": 4,
 "nbformat_minor": 2
}
